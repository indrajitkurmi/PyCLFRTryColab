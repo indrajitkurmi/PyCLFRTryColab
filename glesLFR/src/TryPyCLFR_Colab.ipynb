{
  "nbformat": 4,
  "nbformat_minor": 0,
  "metadata": {
    "orig_nbformat": 2,
    "colab": {
      "name": "TryPyCLFR_Colab.ipynb",
      "provenance": []
    },
    "kernelspec": {
      "name": "python3",
      "display_name": "Python 3"
    }
  },
  "cells": [
    {
      "cell_type": "code",
      "metadata": {
        "id": "fFD71SR-mWsb"
      },
      "source": [
        "!apt update\r\n",
        "!apt install -y cmake\r\n",
        "!pip install dlib"
      ],
      "execution_count": null,
      "outputs": []
    },
    {
      "cell_type": "code",
      "metadata": {
        "colab": {
          "base_uri": "https://localhost:8080/"
        },
        "id": "WIT4eQH4ho8l",
        "outputId": "fb2cb4a7-f836-4a9f-d41e-51a02f40dc33"
      },
      "source": [
        "!git clone https://github.com/indrajitkurmi/PyCLFRTryColab"
      ],
      "execution_count": 11,
      "outputs": [
        {
          "output_type": "stream",
          "text": [
            "Cloning into 'PyCLFRTryColab'...\n",
            "remote: Enumerating objects: 64, done.\u001b[K\n",
            "remote: Counting objects: 100% (64/64), done.\u001b[K\n",
            "remote: Compressing objects: 100% (60/60), done.\u001b[K\n",
            "remote: Total 2331 (delta 45), reused 6 (delta 4), pack-reused 2267\u001b[K\n",
            "Receiving objects: 100% (2331/2331), 255.12 MiB | 27.71 MiB/s, done.\n",
            "Resolving deltas: 100% (221/221), done.\n",
            "Checking out files: 100% (2241/2241), done.\n"
          ],
          "name": "stdout"
        }
      ]
    },
    {
      "cell_type": "code",
      "metadata": {
        "id": "6nMmfdfMjwSN",
        "outputId": "2a878c60-8519-4319-9c66-8270859b52ae",
        "colab": {
          "base_uri": "https://localhost:8080/"
        }
      },
      "source": [
        "%ls\r\n",
        "%cd PyCLFRTryColab/glesLFR/include"
      ],
      "execution_count": 14,
      "outputs": [
        {
          "output_type": "stream",
          "text": [
            "\u001b[0m\u001b[01;34mPyCLFRTryColab\u001b[0m/  \u001b[01;34msample_data\u001b[0m/\n",
            "/content/PyCLFRTryColab/glesLFR/src\n"
          ],
          "name": "stdout"
        }
      ]
    },
    {
      "cell_type": "code",
      "metadata": {
        "id": "OaJfmdCCnkZZ"
      },
      "source": [
        "!git clone https://github.com/assimp/assimp\r\n",
        "%cd PyCLFRTryColab/glesLFR/include/assimp\r\n",
        "!make"
      ],
      "execution_count": null,
      "outputs": []
    },
    {
      "cell_type": "code",
      "metadata": {
        "id": "GtckhOc8nnOw"
      },
      "source": [
        "%cd PyCLFRTryColab/glesLFR/include\r\n",
        "!git clone https://github.com/glfw/glfw\r\n",
        "%cd PyCLFRTryColab/glesLFR/include/glfw\r\n",
        "!cmake"
      ],
      "execution_count": null,
      "outputs": []
    },
    {
      "cell_type": "code",
      "metadata": {
        "colab": {
          "base_uri": "https://localhost:8080/"
        },
        "id": "fQ5423YpiqyI",
        "outputId": "312efd3c-a1d7-4b76-ac1f-10e18c8ae356"
      },
      "source": [
        "!python TestRendererBind_setup_Indrajit.py build_ext --inplace"
      ],
      "execution_count": 15,
      "outputs": [
        {
          "output_type": "stream",
          "text": [
            "running build_ext\n",
            "skipping 'glesLFR_Indrajit_Pyth.cpp' Cython extension (up-to-date)\n",
            "building 'glesLFR_Indrajit' extension\n",
            "creating build/temp.linux-x86_64-3.7\n",
            "x86_64-linux-gnu-gcc -pthread -Wno-unused-result -Wsign-compare -DNDEBUG -g -fwrapv -O2 -Wall -g -fdebug-prefix-map=/build/python3.7-a56wZI/python3.7-3.7.10=. -fstack-protector-strong -Wformat -Werror=format-security -g -fdebug-prefix-map=/build/python3.7-a56wZI/python3.7-3.7.10=. -fstack-protector-strong -Wformat -Werror=format-security -Wdate-time -D_FORTIFY_SOURCE=2 -fPIC -I/usr/include/python3.7m -c glesLFR_Indrajit_Pyth.cpp -o build/temp.linux-x86_64-3.7/glesLFR_Indrajit_Pyth.o -Wall -Wextra -std=c++17 -ggdb -lpthread -I../include/ -L../lib/ -llibassimp.so.5\n",
            "\u001b[01m\u001b[KglesLFR_Indrajit_Pyth.cpp:630:10:\u001b[m\u001b[K \u001b[01;31m\u001b[Kfatal error: \u001b[m\u001b[Knumpy/arrayobject.h: No such file or directory\n",
            " #include \u001b[01;31m\u001b[K\"numpy/arrayobject.h\"\u001b[m\u001b[K\n",
            "          \u001b[01;31m\u001b[K^~~~~~~~~~~~~~~~~~~~~\u001b[m\u001b[K\n",
            "compilation terminated.\n",
            "error: command 'x86_64-linux-gnu-gcc' failed with exit status 1\n"
          ],
          "name": "stdout"
        }
      ]
    },
    {
      "cell_type": "code",
      "metadata": {
        "id": "cpdXal2xcYAJ"
      },
      "source": [
        "print('ProgramStarted')\n",
        "import glesLFR_Indrajit\n",
        "import json\n",
        "import numpy as np\n",
        "import os\n",
        "import cv2\n",
        "print('glesLFR Import')"
      ],
      "execution_count": null,
      "outputs": []
    },
    {
      "cell_type": "code",
      "metadata": {
        "id": "2aa_N3B7cYAK"
      },
      "source": [
        "\n",
        "def ReadJsonPosesFiles(PyClassObject,PosesFilePath):\n",
        "        with open(PosesFilePath) as PoseFile:\n",
        "            PoseFileData = json.load(PoseFile)\n",
        "            NoofPoses = len(PoseFileData['images'])\n",
        "            PoseFileImagesData = PoseFileData['images']\n",
        "            if len(PoseFileData['images']) > 0:\n",
        "                PyClassObject.Py_allocate(len(PoseFileData['images']))\n",
        "                for i in range (0,len(PoseFileData['images'])):\n",
        "                    ImageName = PoseFileImagesData[i]['imagefile']\n",
        "                    #Convert List of List to Np array\n",
        "                    PoseMatrix = PoseFileImagesData[i]['M3x4']\n",
        "                    PoseMatrixNumpyArray = np.array([], dtype=np.double)\n",
        "                    for k in range(0,len(PoseMatrix)):\n",
        "                        PoseMatrixNumpyArray = np.append(PoseMatrixNumpyArray, np.asarray(PoseMatrix[k],dtype=np.double))\n",
        "                    PyClassObject.namespushback(ImageName)\n",
        "                    PyClassObject.posespushback(np.array(PoseMatrixNumpyArray))\n",
        "        return NoofPoses\n",
        "def RenderInitialize(PyClassObject,PosesFilePath,ImageLocation,ObjModelPath,ObjModelImagePath):\n",
        "        PyClassObject.RenderInitializeP1()\n",
        "        NofPoses = ReadJsonPosesFiles(PyClassObject, PosesFilePath)\n",
        "        print(NofPoses)\n",
        "        PyClassObject.Py_LoadDemModel(ObjModelPath,ObjModelImagePath)\n",
        "        for i in range (0,NofPoses):\n",
        "            ImageName = PyClassObject.GetnamesIndex(i)\n",
        "            print(ImageName)\n",
        "            LoadImageName = ImageName.replace('.tiff','.png')\n",
        "            Image = cv2.imread(os.path.join(ImageLocation,LoadImageName),0)\n",
        "             # height, width, number of channels in image\n",
        "            height = Image.shape[0]\n",
        "            width = Image.shape[1]\n",
        "            if len(Image.shape) == 2 :\n",
        "                nrComponents = 1\n",
        "            else :\n",
        "                nrComponents = Image.shape[2]\n",
        "            PyClassObject.LoadImageToC_8bit_1ch(Image)\n",
        "            PyClassObject.Py_GenrateTextureID()\n",
        "            PyClassObject.Py_BindImageWithTextureID(i,height,width,nrComponents)\n",
        "        print('Binding Texture Successful')\n",
        "        PyClassObject.RenderInitializeP2()\n",
        "        print('Inititalization Finished')"
      ],
      "execution_count": null,
      "outputs": []
    },
    {
      "cell_type": "code",
      "metadata": {
        "id": "jGqr75D7cYAM"
      },
      "source": [
        "PosesFilePath = '../data/T20200207F2/thermal_GPS_Corr.json'\n",
        "ImageLocation = '../data/T20200207F2/thermal_ldr512'\n",
        "ObjModelPath = '../data/T20200207F2/dem.obj'\n",
        "ObjModelImagePath = '../data/T20200207F2/dem.png'\n",
        "FocalLength = 50.815436217896945\n",
        "PyLFClass = glesLFR_Indrajit.PyLightfieldClass(0)\n",
        "PyLFClass.Py_setCameraFocalLength(FocalLength)\n",
        "PyLFClass.Py_setProjectionMatrix()\n",
        "RenderInitialize(PyLFClass,PosesFilePath,ImageLocation,ObjModelPath,ObjModelImagePath)\n",
        "ImageReturned1 = PyLFClass.RenderImageOnce('RenderedImage1.png')\n",
        "cv2.imwrite('Image1InMainApp.png', ImageReturned1)\n",
        "ImageReturned2 =  PyLFClass.RenderImageOnce('RenderedImage2.png')\n",
        "cv2.imwrite('Image2InMainApp.png', ImageReturned2)\n",
        "PyLFClass.TerminateRendererOnceFinished()\n",
        "#ReadJsonPosesFiles('../data/T20200207F2/thermal_GPS_Corr.json')\n",
        "print('PY LightFieldClass generated')\n",
        "\n",
        "#PyLFClass = glesLFR_Indrajit.PyLightfieldClass(0)\n",
        "#glesLFR_Indrajit.Py_PrintPyLightFieldInstanceInfo(PyLFClass)\n",
        "#glesLFR_Indrajit.Py_Initiaterender()\n",
        "#PyLFClass.RenderImageOnce()\n",
        "#glesLFR_Indrajit.Py_Completerender()\n",
        "\n",
        "#glesLFR_Indrajit.Py_Initiaterender()\n",
        "del(PyLFClass)\n"
      ],
      "execution_count": null,
      "outputs": []
    }
  ]
}