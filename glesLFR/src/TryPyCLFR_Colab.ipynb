{
  "nbformat": 4,
  "nbformat_minor": 0,
  "metadata": {
    "orig_nbformat": 2,
    "colab": {
      "name": "TryPyCLFR_Colab.ipynb",
      "provenance": []
    },
    "kernelspec": {
      "name": "python3",
      "display_name": "Python 3"
    }
  },
  "cells": [
    {
      "cell_type": "code",
      "metadata": {
        "colab": {
          "base_uri": "https://localhost:8080/"
        },
        "id": "najlW3aor7Tb",
        "outputId": "beef9be8-dcd7-451f-d2ef-c53d8b23f97e"
      },
      "source": [
        "%cd /content/\r\n",
        "%ls"
      ],
      "execution_count": 69,
      "outputs": [
        {
          "output_type": "stream",
          "text": [
            "/content\n",
            "\u001b[0m\u001b[01;34mPyCLFRTryColab\u001b[0m/  \u001b[01;34msample_data\u001b[0m/\n"
          ],
          "name": "stdout"
        }
      ]
    },
    {
      "cell_type": "code",
      "metadata": {
        "id": "Xa9c3g7Fs6RC"
      },
      "source": [
        "#if already cloned PyCLFRTryColab is there\r\n",
        "%rm -rf PyCLFRTryColab/"
      ],
      "execution_count": 70,
      "outputs": []
    },
    {
      "cell_type": "code",
      "metadata": {
        "id": "P6humKkWy9JE",
        "outputId": "20bb1e54-f394-4f05-8c44-9b96e062301d",
        "colab": {
          "base_uri": "https://localhost:8080/"
        }
      },
      "source": [
        "%ls"
      ],
      "execution_count": 71,
      "outputs": [
        {
          "output_type": "stream",
          "text": [
            "\u001b[0m\u001b[01;34msample_data\u001b[0m/\n"
          ],
          "name": "stdout"
        }
      ]
    },
    {
      "cell_type": "code",
      "metadata": {
        "id": "fFD71SR-mWsb"
      },
      "source": [
        "!apt update\r\n",
        "!apt install -y cmake\r\n",
        "!pip install dlib"
      ],
      "execution_count": null,
      "outputs": []
    },
    {
      "cell_type": "code",
      "metadata": {
        "id": "WIT4eQH4ho8l"
      },
      "source": [
        "!git clone https://github.com/indrajitkurmi/PyCLFRTryColab"
      ],
      "execution_count": null,
      "outputs": []
    },
    {
      "cell_type": "code",
      "metadata": {
        "id": "6nMmfdfMjwSN"
      },
      "source": [
        "%ls"
      ],
      "execution_count": null,
      "outputs": []
    },
    {
      "cell_type": "code",
      "metadata": {
        "id": "6fCY7D33tQCr"
      },
      "source": [
        "%cd PyCLFRTryColab/glesLFR/lib/\r\n",
        "%ls"
      ],
      "execution_count": null,
      "outputs": []
    },
    {
      "cell_type": "code",
      "metadata": {
        "id": "OaJfmdCCnkZZ"
      },
      "source": [
        "!git clone https://github.com/assimp/assimp\r\n",
        "%ls"
      ],
      "execution_count": null,
      "outputs": []
    },
    {
      "cell_type": "code",
      "metadata": {
        "id": "NFk2lb3itYlx"
      },
      "source": [
        "\r\n",
        "%ls\r\n",
        "%cd assimp"
      ],
      "execution_count": null,
      "outputs": []
    },
    {
      "cell_type": "code",
      "metadata": {
        "id": "A0rJderZtzpa"
      },
      "source": [
        "%ls"
      ],
      "execution_count": null,
      "outputs": []
    },
    {
      "cell_type": "code",
      "metadata": {
        "id": "f4xCQF5uuU4A"
      },
      "source": [
        "%mkdir build"
      ],
      "execution_count": null,
      "outputs": []
    },
    {
      "cell_type": "code",
      "metadata": {
        "id": "NcsgGtWouYP4"
      },
      "source": [
        "%ls"
      ],
      "execution_count": null,
      "outputs": []
    },
    {
      "cell_type": "code",
      "metadata": {
        "id": "lM4Eqom1umCn"
      },
      "source": [
        "%cd build/"
      ],
      "execution_count": null,
      "outputs": []
    },
    {
      "cell_type": "code",
      "metadata": {
        "id": "kvwimFwTupI_"
      },
      "source": [
        "!cmake .. -G 'Unix Makefiles'"
      ],
      "execution_count": null,
      "outputs": []
    },
    {
      "cell_type": "code",
      "metadata": {
        "id": "_e3J26aItgth"
      },
      "source": [
        "!make -j4"
      ],
      "execution_count": null,
      "outputs": []
    },
    {
      "cell_type": "code",
      "metadata": {
        "id": "G2_qbzWjxTRI"
      },
      "source": [
        "%ls"
      ],
      "execution_count": null,
      "outputs": []
    },
    {
      "cell_type": "code",
      "metadata": {
        "id": "bAg3MzM7xW2F"
      },
      "source": [
        "%cd bin/"
      ],
      "execution_count": null,
      "outputs": []
    },
    {
      "cell_type": "code",
      "metadata": {
        "id": "A8CSc9j9xaCW"
      },
      "source": [
        "%ls"
      ],
      "execution_count": null,
      "outputs": []
    },
    {
      "cell_type": "code",
      "metadata": {
        "id": "HGfkImGdyHkL"
      },
      "source": [
        "%mv -v /content/PyCLFRTryColab/glesLFR/lib/assimp/build/bin/* /content/PyCLFRTryColab/glesLFR/lib/"
      ],
      "execution_count": null,
      "outputs": []
    },
    {
      "cell_type": "code",
      "metadata": {
        "id": "GtckhOc8nnOw"
      },
      "source": [
        "%cd PyCLFRTryColab/glesLFR/include\r\n",
        "!git clone https://github.com/glfw/glfw\r\n",
        "%cd PyCLFRTryColab/glesLFR/include/glfw\r\n",
        "!cmake"
      ],
      "execution_count": null,
      "outputs": []
    },
    {
      "cell_type": "code",
      "metadata": {
        "id": "fQ5423YpiqyI"
      },
      "source": [
        "!python TestRendererBind_setup_Indrajit.py build_ext --inplace"
      ],
      "execution_count": null,
      "outputs": []
    },
    {
      "cell_type": "code",
      "metadata": {
        "id": "cpdXal2xcYAJ"
      },
      "source": [
        "print('ProgramStarted')\n",
        "import glesLFR_Indrajit\n",
        "import json\n",
        "import numpy as np\n",
        "import os\n",
        "import cv2\n",
        "print('glesLFR Import')"
      ],
      "execution_count": null,
      "outputs": []
    },
    {
      "cell_type": "code",
      "metadata": {
        "id": "2aa_N3B7cYAK"
      },
      "source": [
        "\n",
        "def ReadJsonPosesFiles(PyClassObject,PosesFilePath):\n",
        "        with open(PosesFilePath) as PoseFile:\n",
        "            PoseFileData = json.load(PoseFile)\n",
        "            NoofPoses = len(PoseFileData['images'])\n",
        "            PoseFileImagesData = PoseFileData['images']\n",
        "            if len(PoseFileData['images']) > 0:\n",
        "                PyClassObject.Py_allocate(len(PoseFileData['images']))\n",
        "                for i in range (0,len(PoseFileData['images'])):\n",
        "                    ImageName = PoseFileImagesData[i]['imagefile']\n",
        "                    #Convert List of List to Np array\n",
        "                    PoseMatrix = PoseFileImagesData[i]['M3x4']\n",
        "                    PoseMatrixNumpyArray = np.array([], dtype=np.double)\n",
        "                    for k in range(0,len(PoseMatrix)):\n",
        "                        PoseMatrixNumpyArray = np.append(PoseMatrixNumpyArray, np.asarray(PoseMatrix[k],dtype=np.double))\n",
        "                    PyClassObject.namespushback(ImageName)\n",
        "                    PyClassObject.posespushback(np.array(PoseMatrixNumpyArray))\n",
        "        return NoofPoses\n",
        "def RenderInitialize(PyClassObject,PosesFilePath,ImageLocation,ObjModelPath,ObjModelImagePath):\n",
        "        PyClassObject.RenderInitializeP1()\n",
        "        NofPoses = ReadJsonPosesFiles(PyClassObject, PosesFilePath)\n",
        "        print(NofPoses)\n",
        "        PyClassObject.Py_LoadDemModel(ObjModelPath,ObjModelImagePath)\n",
        "        for i in range (0,NofPoses):\n",
        "            ImageName = PyClassObject.GetnamesIndex(i)\n",
        "            print(ImageName)\n",
        "            LoadImageName = ImageName.replace('.tiff','.png')\n",
        "            Image = cv2.imread(os.path.join(ImageLocation,LoadImageName),0)\n",
        "             # height, width, number of channels in image\n",
        "            height = Image.shape[0]\n",
        "            width = Image.shape[1]\n",
        "            if len(Image.shape) == 2 :\n",
        "                nrComponents = 1\n",
        "            else :\n",
        "                nrComponents = Image.shape[2]\n",
        "            PyClassObject.LoadImageToC_8bit_1ch(Image)\n",
        "            PyClassObject.Py_GenrateTextureID()\n",
        "            PyClassObject.Py_BindImageWithTextureID(i,height,width,nrComponents)\n",
        "        print('Binding Texture Successful')\n",
        "        PyClassObject.RenderInitializeP2()\n",
        "        print('Inititalization Finished')"
      ],
      "execution_count": null,
      "outputs": []
    },
    {
      "cell_type": "code",
      "metadata": {
        "id": "jGqr75D7cYAM"
      },
      "source": [
        "PosesFilePath = '../data/T20200207F2/thermal_GPS_Corr.json'\n",
        "ImageLocation = '../data/T20200207F2/thermal_ldr512'\n",
        "ObjModelPath = '../data/T20200207F2/dem.obj'\n",
        "ObjModelImagePath = '../data/T20200207F2/dem.png'\n",
        "FocalLength = 50.815436217896945\n",
        "PyLFClass = glesLFR_Indrajit.PyLightfieldClass(0)\n",
        "PyLFClass.Py_setCameraFocalLength(FocalLength)\n",
        "PyLFClass.Py_setProjectionMatrix()\n",
        "RenderInitialize(PyLFClass,PosesFilePath,ImageLocation,ObjModelPath,ObjModelImagePath)\n",
        "ImageReturned1 = PyLFClass.RenderImageOnce('RenderedImage1.png')\n",
        "cv2.imwrite('Image1InMainApp.png', ImageReturned1)\n",
        "ImageReturned2 =  PyLFClass.RenderImageOnce('RenderedImage2.png')\n",
        "cv2.imwrite('Image2InMainApp.png', ImageReturned2)\n",
        "PyLFClass.TerminateRendererOnceFinished()\n",
        "#ReadJsonPosesFiles('../data/T20200207F2/thermal_GPS_Corr.json')\n",
        "print('PY LightFieldClass generated')\n",
        "\n",
        "#PyLFClass = glesLFR_Indrajit.PyLightfieldClass(0)\n",
        "#glesLFR_Indrajit.Py_PrintPyLightFieldInstanceInfo(PyLFClass)\n",
        "#glesLFR_Indrajit.Py_Initiaterender()\n",
        "#PyLFClass.RenderImageOnce()\n",
        "#glesLFR_Indrajit.Py_Completerender()\n",
        "\n",
        "#glesLFR_Indrajit.Py_Initiaterender()\n",
        "del(PyLFClass)\n"
      ],
      "execution_count": null,
      "outputs": []
    }
  ]
}