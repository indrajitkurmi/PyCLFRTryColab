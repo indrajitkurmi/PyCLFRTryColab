{
  "nbformat": 4,
  "nbformat_minor": 0,
  "metadata": {
    "orig_nbformat": 2,
    "colab": {
      "name": "TryPyCLFR_Colab.ipynb",
      "provenance": []
    },
    "kernelspec": {
      "name": "python3",
      "display_name": "Python 3"
    }
  },
  "cells": [
    {
      "cell_type": "code",
      "metadata": {
        "colab": {
          "base_uri": "https://localhost:8080/"
        },
        "id": "najlW3aor7Tb",
        "outputId": "9c9fbad0-17b5-4fa0-9af7-4422c8c57579"
      },
      "source": [
        "%cd /content/\r\n",
        "%ls\r\n"
      ],
      "execution_count": 45,
      "outputs": [
        {
          "output_type": "stream",
          "text": [
            "/content\n",
            "\u001b[0m\u001b[01;34msample_data\u001b[0m/\n"
          ],
          "name": "stdout"
        }
      ]
    },
    {
      "cell_type": "code",
      "metadata": {
        "id": "Xa9c3g7Fs6RC"
      },
      "source": [
        "#if already cloned PyCLFRTryColab is there\r\n",
        "%rm -rf PyCLFRTryColab/"
      ],
      "execution_count": null,
      "outputs": []
    },
    {
      "cell_type": "code",
      "metadata": {
        "id": "fFD71SR-mWsb",
        "colab": {
          "base_uri": "https://localhost:8080/"
        },
        "outputId": "d4f75852-f1d1-4d69-b7e0-eed2a8c8e3ca"
      },
      "source": [
        "!apt update\r\n",
        "!apt install -y cmake\r\n",
        "!pip install dlib"
      ],
      "execution_count": 40,
      "outputs": [
        {
          "output_type": "stream",
          "text": [
            "\u001b[33m\r0% [Working]\u001b[0m\r            \rHit:1 https://cloud.r-project.org/bin/linux/ubuntu bionic-cran40/ InRelease\n",
            "\u001b[33m\r0% [Connecting to archive.ubuntu.com (91.189.88.142)] [Waiting for headers] [Co\u001b[0m\r                                                                               \rHit:2 http://security.ubuntu.com/ubuntu bionic-security InRelease\n",
            "\r                                                                               \rIgn:3 https://developer.download.nvidia.com/compute/cuda/repos/ubuntu1804/x86_64  InRelease\n",
            "\u001b[33m\r0% [Connecting to archive.ubuntu.com (91.189.88.142)] [Connecting to ppa.launch\u001b[0m\u001b[33m\r0% [1 InRelease gpgv 3,626 B] [Connecting to archive.ubuntu.com (91.189.88.142)\u001b[0m\r                                                                               \rIgn:4 https://developer.download.nvidia.com/compute/machine-learning/repos/ubuntu1804/x86_64  InRelease\n",
            "\u001b[33m\r0% [1 InRelease gpgv 3,626 B] [Connecting to archive.ubuntu.com (91.189.88.142)\u001b[0m\r                                                                               \rHit:5 https://developer.download.nvidia.com/compute/cuda/repos/ubuntu1804/x86_64  Release\n",
            "\u001b[33m\r0% [1 InRelease gpgv 3,626 B] [Connecting to archive.ubuntu.com (91.189.88.142)\u001b[0m\r                                                                               \rHit:6 https://developer.download.nvidia.com/compute/machine-learning/repos/ubuntu1804/x86_64  Release\n",
            "\u001b[33m\r                                                                               \r0% [1 InRelease gpgv 3,626 B] [Waiting for headers] [Waiting for headers]\u001b[0m\r                                                                         \rHit:7 http://ppa.launchpad.net/c2d4u.team/c2d4u4.0+/ubuntu bionic InRelease\n",
            "Hit:8 http://archive.ubuntu.com/ubuntu bionic InRelease\n",
            "Get:9 http://archive.ubuntu.com/ubuntu bionic-updates InRelease [88.7 kB]\n",
            "Hit:10 http://ppa.launchpad.net/cran/libgit2/ubuntu bionic InRelease\n",
            "Hit:11 http://ppa.launchpad.net/deadsnakes/ppa/ubuntu bionic InRelease\n",
            "Get:13 http://archive.ubuntu.com/ubuntu bionic-backports InRelease [74.6 kB]\n",
            "Hit:14 http://ppa.launchpad.net/graphics-drivers/ppa/ubuntu bionic InRelease\n",
            "Fetched 163 kB in 2s (67.0 kB/s)\n",
            "Reading package lists... Done\n",
            "Building dependency tree       \n",
            "Reading state information... Done\n",
            "41 packages can be upgraded. Run 'apt list --upgradable' to see them.\n",
            "Reading package lists... Done\n",
            "Building dependency tree       \n",
            "Reading state information... Done\n",
            "cmake is already the newest version (3.10.2-1ubuntu2.18.04.1).\n",
            "0 upgraded, 0 newly installed, 0 to remove and 41 not upgraded.\n",
            "Requirement already satisfied: dlib in /usr/local/lib/python3.7/dist-packages (19.18.0)\n"
          ],
          "name": "stdout"
        }
      ]
    },
    {
      "cell_type": "code",
      "metadata": {
        "colab": {
          "base_uri": "https://localhost:8080/"
        },
        "id": "WIT4eQH4ho8l",
        "outputId": "1e4d670f-7c28-4731-d993-b5940d73e37f"
      },
      "source": [
        "!git clone https://github.com/indrajitkurmi/PyCLFRTryColab"
      ],
      "execution_count": 41,
      "outputs": [
        {
          "output_type": "stream",
          "text": [
            "fatal: destination path 'PyCLFRTryColab' already exists and is not an empty directory.\n"
          ],
          "name": "stdout"
        }
      ]
    },
    {
      "cell_type": "code",
      "metadata": {
        "id": "6nMmfdfMjwSN",
        "colab": {
          "base_uri": "https://localhost:8080/"
        },
        "outputId": "2a878c60-8519-4319-9c66-8270859b52ae"
      },
      "source": [
        "%ls\r\n",
        "%cd PyCLFRTryColab/glesLFR/include"
      ],
      "execution_count": null,
      "outputs": [
        {
          "output_type": "stream",
          "text": [
            "\u001b[0m\u001b[01;34mPyCLFRTryColab\u001b[0m/  \u001b[01;34msample_data\u001b[0m/\n",
            "/content/PyCLFRTryColab/glesLFR/src\n"
          ],
          "name": "stdout"
        }
      ]
    },
    {
      "cell_type": "code",
      "metadata": {
        "id": "OaJfmdCCnkZZ"
      },
      "source": [
        "!git clone https://github.com/assimp/assimp\r\n",
        "%cd PyCLFRTryColab/glesLFR/include/assimp\r\n",
        "!make"
      ],
      "execution_count": null,
      "outputs": []
    },
    {
      "cell_type": "code",
      "metadata": {
        "id": "GtckhOc8nnOw"
      },
      "source": [
        "%cd PyCLFRTryColab/glesLFR/include\r\n",
        "!git clone https://github.com/glfw/glfw\r\n",
        "%cd PyCLFRTryColab/glesLFR/include/glfw\r\n",
        "!cmake"
      ],
      "execution_count": null,
      "outputs": []
    },
    {
      "cell_type": "code",
      "metadata": {
        "colab": {
          "base_uri": "https://localhost:8080/"
        },
        "id": "fQ5423YpiqyI",
        "outputId": "312efd3c-a1d7-4b76-ac1f-10e18c8ae356"
      },
      "source": [
        "!python TestRendererBind_setup_Indrajit.py build_ext --inplace"
      ],
      "execution_count": null,
      "outputs": [
        {
          "output_type": "stream",
          "text": [
            "running build_ext\n",
            "skipping 'glesLFR_Indrajit_Pyth.cpp' Cython extension (up-to-date)\n",
            "building 'glesLFR_Indrajit' extension\n",
            "creating build/temp.linux-x86_64-3.7\n",
            "x86_64-linux-gnu-gcc -pthread -Wno-unused-result -Wsign-compare -DNDEBUG -g -fwrapv -O2 -Wall -g -fdebug-prefix-map=/build/python3.7-a56wZI/python3.7-3.7.10=. -fstack-protector-strong -Wformat -Werror=format-security -g -fdebug-prefix-map=/build/python3.7-a56wZI/python3.7-3.7.10=. -fstack-protector-strong -Wformat -Werror=format-security -Wdate-time -D_FORTIFY_SOURCE=2 -fPIC -I/usr/include/python3.7m -c glesLFR_Indrajit_Pyth.cpp -o build/temp.linux-x86_64-3.7/glesLFR_Indrajit_Pyth.o -Wall -Wextra -std=c++17 -ggdb -lpthread -I../include/ -L../lib/ -llibassimp.so.5\n",
            "\u001b[01m\u001b[KglesLFR_Indrajit_Pyth.cpp:630:10:\u001b[m\u001b[K \u001b[01;31m\u001b[Kfatal error: \u001b[m\u001b[Knumpy/arrayobject.h: No such file or directory\n",
            " #include \u001b[01;31m\u001b[K\"numpy/arrayobject.h\"\u001b[m\u001b[K\n",
            "          \u001b[01;31m\u001b[K^~~~~~~~~~~~~~~~~~~~~\u001b[m\u001b[K\n",
            "compilation terminated.\n",
            "error: command 'x86_64-linux-gnu-gcc' failed with exit status 1\n"
          ],
          "name": "stdout"
        }
      ]
    },
    {
      "cell_type": "code",
      "metadata": {
        "id": "cpdXal2xcYAJ"
      },
      "source": [
        "print('ProgramStarted')\n",
        "import glesLFR_Indrajit\n",
        "import json\n",
        "import numpy as np\n",
        "import os\n",
        "import cv2\n",
        "print('glesLFR Import')"
      ],
      "execution_count": null,
      "outputs": []
    },
    {
      "cell_type": "code",
      "metadata": {
        "id": "2aa_N3B7cYAK"
      },
      "source": [
        "\n",
        "def ReadJsonPosesFiles(PyClassObject,PosesFilePath):\n",
        "        with open(PosesFilePath) as PoseFile:\n",
        "            PoseFileData = json.load(PoseFile)\n",
        "            NoofPoses = len(PoseFileData['images'])\n",
        "            PoseFileImagesData = PoseFileData['images']\n",
        "            if len(PoseFileData['images']) > 0:\n",
        "                PyClassObject.Py_allocate(len(PoseFileData['images']))\n",
        "                for i in range (0,len(PoseFileData['images'])):\n",
        "                    ImageName = PoseFileImagesData[i]['imagefile']\n",
        "                    #Convert List of List to Np array\n",
        "                    PoseMatrix = PoseFileImagesData[i]['M3x4']\n",
        "                    PoseMatrixNumpyArray = np.array([], dtype=np.double)\n",
        "                    for k in range(0,len(PoseMatrix)):\n",
        "                        PoseMatrixNumpyArray = np.append(PoseMatrixNumpyArray, np.asarray(PoseMatrix[k],dtype=np.double))\n",
        "                    PyClassObject.namespushback(ImageName)\n",
        "                    PyClassObject.posespushback(np.array(PoseMatrixNumpyArray))\n",
        "        return NoofPoses\n",
        "def RenderInitialize(PyClassObject,PosesFilePath,ImageLocation,ObjModelPath,ObjModelImagePath):\n",
        "        PyClassObject.RenderInitializeP1()\n",
        "        NofPoses = ReadJsonPosesFiles(PyClassObject, PosesFilePath)\n",
        "        print(NofPoses)\n",
        "        PyClassObject.Py_LoadDemModel(ObjModelPath,ObjModelImagePath)\n",
        "        for i in range (0,NofPoses):\n",
        "            ImageName = PyClassObject.GetnamesIndex(i)\n",
        "            print(ImageName)\n",
        "            LoadImageName = ImageName.replace('.tiff','.png')\n",
        "            Image = cv2.imread(os.path.join(ImageLocation,LoadImageName),0)\n",
        "             # height, width, number of channels in image\n",
        "            height = Image.shape[0]\n",
        "            width = Image.shape[1]\n",
        "            if len(Image.shape) == 2 :\n",
        "                nrComponents = 1\n",
        "            else :\n",
        "                nrComponents = Image.shape[2]\n",
        "            PyClassObject.LoadImageToC_8bit_1ch(Image)\n",
        "            PyClassObject.Py_GenrateTextureID()\n",
        "            PyClassObject.Py_BindImageWithTextureID(i,height,width,nrComponents)\n",
        "        print('Binding Texture Successful')\n",
        "        PyClassObject.RenderInitializeP2()\n",
        "        print('Inititalization Finished')"
      ],
      "execution_count": null,
      "outputs": []
    },
    {
      "cell_type": "code",
      "metadata": {
        "id": "jGqr75D7cYAM"
      },
      "source": [
        "PosesFilePath = '../data/T20200207F2/thermal_GPS_Corr.json'\n",
        "ImageLocation = '../data/T20200207F2/thermal_ldr512'\n",
        "ObjModelPath = '../data/T20200207F2/dem.obj'\n",
        "ObjModelImagePath = '../data/T20200207F2/dem.png'\n",
        "FocalLength = 50.815436217896945\n",
        "PyLFClass = glesLFR_Indrajit.PyLightfieldClass(0)\n",
        "PyLFClass.Py_setCameraFocalLength(FocalLength)\n",
        "PyLFClass.Py_setProjectionMatrix()\n",
        "RenderInitialize(PyLFClass,PosesFilePath,ImageLocation,ObjModelPath,ObjModelImagePath)\n",
        "ImageReturned1 = PyLFClass.RenderImageOnce('RenderedImage1.png')\n",
        "cv2.imwrite('Image1InMainApp.png', ImageReturned1)\n",
        "ImageReturned2 =  PyLFClass.RenderImageOnce('RenderedImage2.png')\n",
        "cv2.imwrite('Image2InMainApp.png', ImageReturned2)\n",
        "PyLFClass.TerminateRendererOnceFinished()\n",
        "#ReadJsonPosesFiles('../data/T20200207F2/thermal_GPS_Corr.json')\n",
        "print('PY LightFieldClass generated')\n",
        "\n",
        "#PyLFClass = glesLFR_Indrajit.PyLightfieldClass(0)\n",
        "#glesLFR_Indrajit.Py_PrintPyLightFieldInstanceInfo(PyLFClass)\n",
        "#glesLFR_Indrajit.Py_Initiaterender()\n",
        "#PyLFClass.RenderImageOnce()\n",
        "#glesLFR_Indrajit.Py_Completerender()\n",
        "\n",
        "#glesLFR_Indrajit.Py_Initiaterender()\n",
        "del(PyLFClass)\n"
      ],
      "execution_count": null,
      "outputs": []
    }
  ]
}