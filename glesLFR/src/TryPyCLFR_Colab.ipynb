{
  "nbformat": 4,
  "nbformat_minor": 0,
  "metadata": {
    "orig_nbformat": 2,
    "colab": {
      "name": "TryPyCLFR_Colab.ipynb",
      "provenance": []
    },
    "kernelspec": {
      "name": "python3",
      "display_name": "Python 3"
    }
  },
  "cells": [
    {
      "cell_type": "code",
      "metadata": {
        "colab": {
          "base_uri": "https://localhost:8080/"
        },
        "id": "najlW3aor7Tb",
        "outputId": "85ebadd9-6a3a-4fc5-9e07-ea88743df1f1"
      },
      "source": [
        "%cd /content/\r\n",
        "%ls"
      ],
      "execution_count": 179,
      "outputs": [
        {
          "output_type": "stream",
          "text": [
            "/content\n",
            "\u001b[0m\u001b[01;34mPyCLFRTryColab\u001b[0m/  \u001b[01;34msample_data\u001b[0m/\n"
          ],
          "name": "stdout"
        }
      ]
    },
    {
      "cell_type": "code",
      "metadata": {
        "id": "Xa9c3g7Fs6RC"
      },
      "source": [
        "#if already cloned PyCLFRTryColab is there\r\n",
        "%rm -rf PyCLFRTryColab/"
      ],
      "execution_count": 180,
      "outputs": []
    },
    {
      "cell_type": "code",
      "metadata": {
        "id": "P6humKkWy9JE",
        "colab": {
          "base_uri": "https://localhost:8080/"
        },
        "outputId": "2fe78f2d-14ba-4d9c-91a3-607f70016116"
      },
      "source": [
        "%ls"
      ],
      "execution_count": 181,
      "outputs": [
        {
          "output_type": "stream",
          "text": [
            "\u001b[0m\u001b[01;34msample_data\u001b[0m/\n"
          ],
          "name": "stdout"
        }
      ]
    },
    {
      "cell_type": "code",
      "metadata": {
        "id": "fFD71SR-mWsb",
        "outputId": "9185a1b8-da31-42be-bc2f-a4932f2f5b5e",
        "colab": {
          "base_uri": "https://localhost:8080/"
        }
      },
      "source": [
        "!apt update\r\n",
        "!apt install -y cmake\r\n",
        "!pip install dlib"
      ],
      "execution_count": 182,
      "outputs": [
        {
          "output_type": "stream",
          "text": [
            "\u001b[33m\r0% [Working]\u001b[0m\r            \rIgn:1 https://developer.download.nvidia.com/compute/cuda/repos/ubuntu1804/x86_64  InRelease\n",
            "\u001b[33m\r0% [Connecting to archive.ubuntu.com (91.189.88.142)] [Connecting to security.u\u001b[0m\r                                                                               \rIgn:2 https://developer.download.nvidia.com/compute/machine-learning/repos/ubuntu1804/x86_64  InRelease\n",
            "\u001b[33m\r0% [Connecting to archive.ubuntu.com (91.189.88.142)] [Connecting to security.u\u001b[0m\r                                                                               \rHit:3 https://developer.download.nvidia.com/compute/cuda/repos/ubuntu1804/x86_64  Release\n",
            "Hit:4 https://developer.download.nvidia.com/compute/machine-learning/repos/ubuntu1804/x86_64  Release\n",
            "Hit:5 https://cloud.r-project.org/bin/linux/ubuntu bionic-cran40/ InRelease\n",
            "Hit:6 http://ppa.launchpad.net/c2d4u.team/c2d4u4.0+/ubuntu bionic InRelease\n",
            "Hit:7 http://archive.ubuntu.com/ubuntu bionic InRelease\n",
            "Get:8 http://security.ubuntu.com/ubuntu bionic-security InRelease [88.7 kB]\n",
            "Get:9 http://archive.ubuntu.com/ubuntu bionic-updates InRelease [88.7 kB]\n",
            "Hit:11 http://ppa.launchpad.net/cran/libgit2/ubuntu bionic InRelease\n",
            "Hit:13 http://ppa.launchpad.net/deadsnakes/ppa/ubuntu bionic InRelease\n",
            "Get:14 http://archive.ubuntu.com/ubuntu bionic-backports InRelease [74.6 kB]\n",
            "Hit:15 http://ppa.launchpad.net/graphics-drivers/ppa/ubuntu bionic InRelease\n",
            "Fetched 252 kB in 3s (99.2 kB/s)\n",
            "Reading package lists... Done\n",
            "Building dependency tree       \n",
            "Reading state information... Done\n",
            "41 packages can be upgraded. Run 'apt list --upgradable' to see them.\n",
            "Reading package lists... Done\n",
            "Building dependency tree       \n",
            "Reading state information... Done\n",
            "cmake is already the newest version (3.10.2-1ubuntu2.18.04.1).\n",
            "0 upgraded, 0 newly installed, 0 to remove and 41 not upgraded.\n",
            "Requirement already satisfied: dlib in /usr/local/lib/python3.7/dist-packages (19.18.0)\n"
          ],
          "name": "stdout"
        }
      ]
    },
    {
      "cell_type": "code",
      "metadata": {
        "id": "WIT4eQH4ho8l"
      },
      "source": [
        "!git clone https://github.com/indrajitkurmi/PyCLFRTryColab"
      ],
      "execution_count": null,
      "outputs": []
    },
    {
      "cell_type": "code",
      "metadata": {
        "id": "6nMmfdfMjwSN"
      },
      "source": [
        "%ls"
      ],
      "execution_count": null,
      "outputs": []
    },
    {
      "cell_type": "code",
      "metadata": {
        "id": "WDTTNy4LzxTb"
      },
      "source": [
        "%cd PyCLFRTryColab/glesLFR/\r\n",
        "%mkdir lib\r\n",
        "%ls"
      ],
      "execution_count": null,
      "outputs": []
    },
    {
      "cell_type": "code",
      "metadata": {
        "id": "6fCY7D33tQCr"
      },
      "source": [
        "%cd lib/\r\n",
        "%mkdir BuildLib\r\n",
        "%ls\r\n"
      ],
      "execution_count": null,
      "outputs": []
    },
    {
      "cell_type": "code",
      "metadata": {
        "id": "8JRGPo3A0GEM"
      },
      "source": [
        "%cd /content/PyCLFRTryColab/glesLFR/lib/BuildLib"
      ],
      "execution_count": null,
      "outputs": []
    },
    {
      "cell_type": "code",
      "metadata": {
        "id": "OaJfmdCCnkZZ"
      },
      "source": [
        "!git clone https://github.com/assimp/assimp\r\n",
        "%ls"
      ],
      "execution_count": null,
      "outputs": []
    },
    {
      "cell_type": "code",
      "metadata": {
        "id": "NFk2lb3itYlx"
      },
      "source": [
        "\r\n",
        "%ls\r\n",
        "%cd assimp"
      ],
      "execution_count": null,
      "outputs": []
    },
    {
      "cell_type": "code",
      "metadata": {
        "id": "A0rJderZtzpa"
      },
      "source": [
        "%ls"
      ],
      "execution_count": null,
      "outputs": []
    },
    {
      "cell_type": "code",
      "metadata": {
        "id": "f4xCQF5uuU4A"
      },
      "source": [
        "%mkdir build"
      ],
      "execution_count": null,
      "outputs": []
    },
    {
      "cell_type": "code",
      "metadata": {
        "id": "NcsgGtWouYP4"
      },
      "source": [
        "%ls"
      ],
      "execution_count": null,
      "outputs": []
    },
    {
      "cell_type": "code",
      "metadata": {
        "id": "lM4Eqom1umCn"
      },
      "source": [
        "%cd build/"
      ],
      "execution_count": null,
      "outputs": []
    },
    {
      "cell_type": "code",
      "metadata": {
        "id": "kvwimFwTupI_"
      },
      "source": [
        "!cmake .. -G 'Unix Makefiles'"
      ],
      "execution_count": null,
      "outputs": []
    },
    {
      "cell_type": "code",
      "metadata": {
        "id": "_e3J26aItgth"
      },
      "source": [
        "!make -j4"
      ],
      "execution_count": null,
      "outputs": []
    },
    {
      "cell_type": "code",
      "metadata": {
        "id": "G2_qbzWjxTRI"
      },
      "source": [
        "%ls"
      ],
      "execution_count": null,
      "outputs": []
    },
    {
      "cell_type": "code",
      "metadata": {
        "id": "bAg3MzM7xW2F"
      },
      "source": [
        "%cd bin/"
      ],
      "execution_count": null,
      "outputs": []
    },
    {
      "cell_type": "code",
      "metadata": {
        "id": "A8CSc9j9xaCW"
      },
      "source": [
        "%ls"
      ],
      "execution_count": null,
      "outputs": []
    },
    {
      "cell_type": "code",
      "metadata": {
        "id": "HGfkImGdyHkL"
      },
      "source": [
        "%mv -v /content/PyCLFRTryColab/glesLFR/lib/BuildLib/assimp/build/bin/* /content/PyCLFRTryColab/glesLFR/lib/"
      ],
      "execution_count": null,
      "outputs": []
    },
    {
      "cell_type": "code",
      "metadata": {
        "id": "64js_w2B2DEx"
      },
      "source": [
        "%cd /content/PyCLFRTryColab/glesLFR/lib/\r\n",
        "%ls"
      ],
      "execution_count": null,
      "outputs": []
    },
    {
      "cell_type": "code",
      "metadata": {
        "id": "GtckhOc8nnOw",
        "outputId": "f9451d7d-a318-4626-8e5e-36c43a26da11",
        "colab": {
          "base_uri": "https://localhost:8080/"
        }
      },
      "source": [
        "%cd /content/PyCLFRTryColab/glesLFR/lib/BuildLib/"
      ],
      "execution_count": 145,
      "outputs": [
        {
          "output_type": "stream",
          "text": [
            "/content/PyCLFRTryColab/glesLFR/lib/BuildLib\n"
          ],
          "name": "stdout"
        }
      ]
    },
    {
      "cell_type": "code",
      "metadata": {
        "id": "k9INKWcD6udF",
        "outputId": "f844fcb4-416a-4d78-8062-0d6850f62243",
        "colab": {
          "base_uri": "https://localhost:8080/"
        }
      },
      "source": [
        "%ls"
      ],
      "execution_count": 146,
      "outputs": [
        {
          "output_type": "stream",
          "text": [
            "\u001b[0m\u001b[01;34massimp\u001b[0m/  \u001b[01;34mGLFW-CMake-starter\u001b[0m/\n"
          ],
          "name": "stdout"
        }
      ]
    },
    {
      "cell_type": "code",
      "metadata": {
        "id": "tcr0H5Wa6wdD"
      },
      "source": [
        "%rm -rf GLFW-CMake-starter/"
      ],
      "execution_count": 147,
      "outputs": []
    },
    {
      "cell_type": "code",
      "metadata": {
        "id": "jRj3n7f8607z",
        "outputId": "9c66e6a6-9e22-40c5-ae5a-40efd24281a1",
        "colab": {
          "base_uri": "https://localhost:8080/"
        }
      },
      "source": [
        "%ls\r\n"
      ],
      "execution_count": 148,
      "outputs": [
        {
          "output_type": "stream",
          "text": [
            "\u001b[0m\u001b[01;34massimp\u001b[0m/\n"
          ],
          "name": "stdout"
        }
      ]
    },
    {
      "cell_type": "code",
      "metadata": {
        "id": "zLPVjrXy1xMK",
        "outputId": "3bdd4222-1f37-43c1-86e3-e1fd09ce3dae",
        "colab": {
          "base_uri": "https://localhost:8080/"
        }
      },
      "source": [
        "!git clone https://github.com/glfw/glfw\r\n",
        "%ls\r\n"
      ],
      "execution_count": 149,
      "outputs": [
        {
          "output_type": "stream",
          "text": [
            "Cloning into 'glfw'...\n",
            "remote: Enumerating objects: 26912, done.\u001b[K\n",
            "remote: Total 26912 (delta 0), reused 0 (delta 0), pack-reused 26912\u001b[K\n",
            "Receiving objects: 100% (26912/26912), 13.09 MiB | 21.08 MiB/s, done.\n",
            "Resolving deltas: 100% (18979/18979), done.\n",
            "\u001b[0m\u001b[01;34massimp\u001b[0m/  \u001b[01;34mglfw\u001b[0m/\n"
          ],
          "name": "stdout"
        }
      ]
    },
    {
      "cell_type": "code",
      "metadata": {
        "id": "akDQHl2w2ZaY",
        "outputId": "dd6a383b-4411-407b-ba38-7b4197a57f64",
        "colab": {
          "base_uri": "https://localhost:8080/"
        }
      },
      "source": [
        "%cd /content/PyCLFRTryColab/glesLFR/lib/BuildLib/glfw/\r\n",
        "%ls"
      ],
      "execution_count": 150,
      "outputs": [
        {
          "output_type": "stream",
          "text": [
            "/content/PyCLFRTryColab/glesLFR/lib/BuildLib/glfw\n",
            "\u001b[0m\u001b[01;34mCMake\u001b[0m/          \u001b[01;34mdeps\u001b[0m/  \u001b[01;34mexamples\u001b[0m/  LICENSE.md  \u001b[01;34msrc\u001b[0m/\n",
            "CMakeLists.txt  \u001b[01;34mdocs\u001b[0m/  \u001b[01;34minclude\u001b[0m/   README.md   \u001b[01;34mtests\u001b[0m/\n"
          ],
          "name": "stdout"
        }
      ]
    },
    {
      "cell_type": "code",
      "metadata": {
        "id": "07MtMosD3ZYn",
        "outputId": "b6898709-3eb2-439c-fd92-4c01ffcab5c9",
        "colab": {
          "base_uri": "https://localhost:8080/"
        }
      },
      "source": [
        "!apt-get install -y xorg-dev"
      ],
      "execution_count": 151,
      "outputs": [
        {
          "output_type": "stream",
          "text": [
            "Reading package lists... Done\n",
            "Building dependency tree       \n",
            "Reading state information... Done\n",
            "xorg-dev is already the newest version (1:7.7+19ubuntu7.1).\n",
            "0 upgraded, 0 newly installed, 0 to remove and 41 not upgraded.\n"
          ],
          "name": "stdout"
        }
      ]
    },
    {
      "cell_type": "code",
      "metadata": {
        "id": "9V_PtSj68Tnz",
        "outputId": "151dca5f-0b5a-4f20-fd5b-96e2ea702ea3",
        "colab": {
          "base_uri": "https://localhost:8080/"
        }
      },
      "source": [
        "!apt-get install -y pkg-config"
      ],
      "execution_count": 152,
      "outputs": [
        {
          "output_type": "stream",
          "text": [
            "Reading package lists... Done\n",
            "Building dependency tree       \n",
            "Reading state information... Done\n",
            "pkg-config is already the newest version (0.29.1-0ubuntu2).\n",
            "0 upgraded, 0 newly installed, 0 to remove and 41 not upgraded.\n"
          ],
          "name": "stdout"
        }
      ]
    },
    {
      "cell_type": "code",
      "metadata": {
        "id": "QgGWcvGd35t4",
        "outputId": "80ec52ae-0a20-4bf0-8d7e-37a04cfc8b55",
        "colab": {
          "base_uri": "https://localhost:8080/"
        }
      },
      "source": [
        "%mkdir build\r\n",
        "%ls"
      ],
      "execution_count": 153,
      "outputs": [
        {
          "output_type": "stream",
          "text": [
            "\u001b[0m\u001b[01;34mbuild\u001b[0m/  CMakeLists.txt  \u001b[01;34mdocs\u001b[0m/      \u001b[01;34minclude\u001b[0m/    README.md  \u001b[01;34mtests\u001b[0m/\n",
            "\u001b[01;34mCMake\u001b[0m/  \u001b[01;34mdeps\u001b[0m/           \u001b[01;34mexamples\u001b[0m/  LICENSE.md  \u001b[01;34msrc\u001b[0m/\n"
          ],
          "name": "stdout"
        }
      ]
    },
    {
      "cell_type": "code",
      "metadata": {
        "id": "aRbzw4VO4AHG",
        "outputId": "59ee718b-4554-4a04-b4ad-7f2b94d4f394",
        "colab": {
          "base_uri": "https://localhost:8080/"
        }
      },
      "source": [
        "%cd build/"
      ],
      "execution_count": 154,
      "outputs": [
        {
          "output_type": "stream",
          "text": [
            "/content/PyCLFRTryColab/glesLFR/lib/BuildLib/glfw/build\n"
          ],
          "name": "stdout"
        }
      ]
    },
    {
      "cell_type": "code",
      "metadata": {
        "id": "z6Yxiaow4F8G",
        "outputId": "81657aed-5dbb-4af5-9001-b343ddd20c70",
        "colab": {
          "base_uri": "https://localhost:8080/"
        }
      },
      "source": [
        "!cmake .."
      ],
      "execution_count": 155,
      "outputs": [
        {
          "output_type": "stream",
          "text": [
            "-- The C compiler identification is GNU 7.5.0\n",
            "-- Check for working C compiler: /usr/bin/cc\n",
            "-- Check for working C compiler: /usr/bin/cc -- works\n",
            "-- Detecting C compiler ABI info\n",
            "-- Detecting C compiler ABI info - done\n",
            "-- Detecting C compile features\n",
            "-- Detecting C compile features - done\n",
            "-- Looking for pthread.h\n",
            "-- Looking for pthread.h - found\n",
            "-- Looking for pthread_create\n",
            "-- Looking for pthread_create - not found\n",
            "-- Looking for pthread_create in pthreads\n",
            "-- Looking for pthread_create in pthreads - not found\n",
            "-- Looking for pthread_create in pthread\n",
            "-- Looking for pthread_create in pthread - found\n",
            "-- Found Threads: TRUE  \n",
            "-- Could NOT find Doxygen (missing: DOXYGEN_EXECUTABLE) \n",
            "-- Using X11 for window creation\n",
            "-- Looking for XOpenDisplay in /usr/lib/x86_64-linux-gnu/libX11.so;/usr/lib/x86_64-linux-gnu/libXext.so\n",
            "-- Looking for XOpenDisplay in /usr/lib/x86_64-linux-gnu/libX11.so;/usr/lib/x86_64-linux-gnu/libXext.so - found\n",
            "-- Looking for gethostbyname\n",
            "-- Looking for gethostbyname - found\n",
            "-- Looking for connect\n",
            "-- Looking for connect - found\n",
            "-- Looking for remove\n",
            "-- Looking for remove - found\n",
            "-- Looking for shmat\n",
            "-- Looking for shmat - found\n",
            "-- Looking for IceConnectionNumber in ICE\n",
            "-- Looking for IceConnectionNumber in ICE - found\n",
            "-- Found X11: /usr/lib/x86_64-linux-gnu/libX11.so\n",
            "-- Configuring done\n",
            "-- Generating done\n",
            "-- Build files have been written to: /content/PyCLFRTryColab/glesLFR/lib/BuildLib/glfw/build\n"
          ],
          "name": "stdout"
        }
      ]
    },
    {
      "cell_type": "code",
      "metadata": {
        "id": "GHyO36wZ9wuB",
        "outputId": "d10758a4-bf23-492e-c0fd-8ad0ba2b1ca7",
        "colab": {
          "base_uri": "https://localhost:8080/"
        }
      },
      "source": [
        "%ls"
      ],
      "execution_count": 156,
      "outputs": [
        {
          "output_type": "stream",
          "text": [
            "CMakeCache.txt  cmake_install.cmake    \u001b[0m\u001b[01;34mexamples\u001b[0m/  \u001b[01;34msrc\u001b[0m/\n",
            "\u001b[01;34mCMakeFiles\u001b[0m/     cmake_uninstall.cmake  Makefile   \u001b[01;34mtests\u001b[0m/\n"
          ],
          "name": "stdout"
        }
      ]
    },
    {
      "cell_type": "code",
      "metadata": {
        "id": "7JbXa6gn15JB",
        "outputId": "4b869833-debb-496e-b20d-af46b716db86",
        "colab": {
          "base_uri": "https://localhost:8080/"
        }
      },
      "source": [
        "!make all -j4"
      ],
      "execution_count": 157,
      "outputs": [
        {
          "output_type": "stream",
          "text": [
            "\u001b[35m\u001b[1mScanning dependencies of target glfw\u001b[0m\n",
            "[  1%] \u001b[32mBuilding C object src/CMakeFiles/glfw.dir/context.c.o\u001b[0m\n",
            "[  2%] \u001b[32mBuilding C object src/CMakeFiles/glfw.dir/monitor.c.o\u001b[0m\n",
            "[  3%] \u001b[32mBuilding C object src/CMakeFiles/glfw.dir/input.c.o\u001b[0m\n",
            "[  4%] \u001b[32mBuilding C object src/CMakeFiles/glfw.dir/init.c.o\u001b[0m\n",
            "[  5%] \u001b[32mBuilding C object src/CMakeFiles/glfw.dir/vulkan.c.o\u001b[0m\n",
            "[  5%] \u001b[32mBuilding C object src/CMakeFiles/glfw.dir/window.c.o\u001b[0m\n",
            "[  6%] \u001b[32mBuilding C object src/CMakeFiles/glfw.dir/x11_init.c.o\u001b[0m\n",
            "[  7%] \u001b[32mBuilding C object src/CMakeFiles/glfw.dir/x11_monitor.c.o\u001b[0m\n",
            "[  8%] \u001b[32mBuilding C object src/CMakeFiles/glfw.dir/x11_window.c.o\u001b[0m\n",
            "[  9%] \u001b[32mBuilding C object src/CMakeFiles/glfw.dir/xkb_unicode.c.o\u001b[0m\n",
            "[ 10%] \u001b[32mBuilding C object src/CMakeFiles/glfw.dir/posix_time.c.o\u001b[0m\n",
            "[ 11%] \u001b[32mBuilding C object src/CMakeFiles/glfw.dir/posix_thread.c.o\u001b[0m\n",
            "[ 11%] \u001b[32mBuilding C object src/CMakeFiles/glfw.dir/glx_context.c.o\u001b[0m\n",
            "[ 12%] \u001b[32mBuilding C object src/CMakeFiles/glfw.dir/egl_context.c.o\u001b[0m\n",
            "[ 13%] \u001b[32mBuilding C object src/CMakeFiles/glfw.dir/linux_joystick.c.o\u001b[0m\n",
            "[ 14%] \u001b[32mBuilding C object src/CMakeFiles/glfw.dir/osmesa_context.c.o\u001b[0m\n",
            "[ 15%] \u001b[32m\u001b[1mLinking C static library libglfw3.a\u001b[0m\n",
            "[ 15%] Built target glfw\n",
            "\u001b[35m\u001b[1mScanning dependencies of target gears\u001b[0m\n",
            "\u001b[35m\u001b[1mScanning dependencies of target windows\u001b[0m\n",
            "\u001b[35m\u001b[1mScanning dependencies of target boing\u001b[0m\n",
            "[ 15%] \u001b[32mBuilding C object examples/CMakeFiles/gears.dir/gears.c.o\u001b[0m\n",
            "\u001b[35m\u001b[1mScanning dependencies of target offscreen\u001b[0m\n",
            "[ 16%] \u001b[32mBuilding C object examples/CMakeFiles/windows.dir/windows.c.o\u001b[0m\n",
            "[ 17%] \u001b[32mBuilding C object examples/CMakeFiles/offscreen.dir/offscreen.c.o\u001b[0m\n",
            "[ 17%] \u001b[32mBuilding C object examples/CMakeFiles/boing.dir/boing.c.o\u001b[0m\n",
            "[ 18%] \u001b[32mBuilding C object examples/CMakeFiles/gears.dir/__/deps/glad_gl.c.o\u001b[0m\n",
            "[ 19%] \u001b[32mBuilding C object examples/CMakeFiles/windows.dir/__/deps/glad_gl.c.o\u001b[0m\n",
            "[ 20%] \u001b[32mBuilding C object examples/CMakeFiles/boing.dir/__/deps/glad_gl.c.o\u001b[0m\n",
            "[ 20%] \u001b[32mBuilding C object examples/CMakeFiles/offscreen.dir/__/deps/glad_gl.c.o\u001b[0m\n",
            "[ 21%] \u001b[32m\u001b[1mLinking C executable gears\u001b[0m\n",
            "[ 22%] \u001b[32m\u001b[1mLinking C executable windows\u001b[0m\n",
            "[ 23%] \u001b[32m\u001b[1mLinking C executable boing\u001b[0m\n",
            "[ 23%] Built target gears\n",
            "\u001b[35m\u001b[1mScanning dependencies of target particles\u001b[0m\n",
            "[ 24%] \u001b[32m\u001b[1mLinking C executable offscreen\u001b[0m\n",
            "[ 24%] Built target windows\n",
            "[ 25%] \u001b[32mBuilding C object examples/CMakeFiles/particles.dir/particles.c.o\u001b[0m\n",
            "\u001b[35m\u001b[1mScanning dependencies of target wave\u001b[0m\n",
            "[ 25%] Built target boing\n",
            "[ 26%] \u001b[32mBuilding C object examples/CMakeFiles/wave.dir/wave.c.o\u001b[0m\n",
            "[ 27%] \u001b[32mBuilding C object examples/CMakeFiles/particles.dir/__/deps/tinycthread.c.o\u001b[0m\n",
            "[ 27%] Built target offscreen\n",
            "[ 28%] \u001b[32mBuilding C object examples/CMakeFiles/particles.dir/__/deps/getopt.c.o\u001b[0m\n",
            "[ 29%] \u001b[32mBuilding C object examples/CMakeFiles/particles.dir/__/deps/glad_gl.c.o\u001b[0m\n",
            "[ 29%] \u001b[32mBuilding C object examples/CMakeFiles/wave.dir/__/deps/glad_gl.c.o\u001b[0m\n",
            "\u001b[35m\u001b[1mScanning dependencies of target splitview\u001b[0m\n",
            "\u001b[35m\u001b[1mScanning dependencies of target sharing\u001b[0m\n",
            "[ 30%] \u001b[32mBuilding C object examples/CMakeFiles/sharing.dir/sharing.c.o\u001b[0m\n",
            "[ 31%] \u001b[32mBuilding C object examples/CMakeFiles/splitview.dir/splitview.c.o\u001b[0m\n",
            "[ 32%] \u001b[32mBuilding C object examples/CMakeFiles/sharing.dir/__/deps/glad_gl.c.o\u001b[0m\n",
            "[ 33%] \u001b[32m\u001b[1mLinking C executable sharing\u001b[0m\n",
            "[ 34%] \u001b[32mBuilding C object examples/CMakeFiles/splitview.dir/__/deps/glad_gl.c.o\u001b[0m\n",
            "[ 35%] \u001b[32m\u001b[1mLinking C executable particles\u001b[0m\n",
            "[ 36%] \u001b[32m\u001b[1mLinking C executable wave\u001b[0m\n",
            "[ 36%] Built target sharing\n",
            "\u001b[35m\u001b[1mScanning dependencies of target heightmap\u001b[0m\n",
            "[ 37%] \u001b[32mBuilding C object examples/CMakeFiles/heightmap.dir/heightmap.c.o\u001b[0m\n",
            "[ 37%] Built target wave\n",
            "[ 37%] Built target particles\n",
            "\u001b[35m\u001b[1mScanning dependencies of target triangle-opengl\u001b[0m\n",
            "\u001b[35m\u001b[1mScanning dependencies of target reopen\u001b[0m\n",
            "[ 37%] \u001b[32mBuilding C object examples/CMakeFiles/triangle-opengl.dir/triangle-opengl.c.o\u001b[0m\n",
            "[ 37%] \u001b[32mBuilding C object tests/CMakeFiles/reopen.dir/reopen.c.o\u001b[0m\n",
            "[ 37%] \u001b[32m\u001b[1mLinking C executable splitview\u001b[0m\n",
            "[ 38%] \u001b[32mBuilding C object examples/CMakeFiles/heightmap.dir/__/deps/glad_gl.c.o\u001b[0m\n",
            "[ 39%] \u001b[32mBuilding C object examples/CMakeFiles/triangle-opengl.dir/__/deps/glad_gl.c.o\u001b[0m\n",
            "[ 40%] \u001b[32mBuilding C object tests/CMakeFiles/reopen.dir/__/deps/glad_gl.c.o\u001b[0m\n",
            "[ 40%] Built target splitview\n",
            "\u001b[35m\u001b[1mScanning dependencies of target inputlag\u001b[0m\n",
            "[ 41%] \u001b[32mBuilding C object tests/CMakeFiles/inputlag.dir/inputlag.c.o\u001b[0m\n",
            "[ 42%] \u001b[32m\u001b[1mLinking C executable heightmap\u001b[0m\n",
            "[ 43%] \u001b[32m\u001b[1mLinking C executable triangle-opengl\u001b[0m\n",
            "[ 44%] \u001b[32m\u001b[1mLinking C executable reopen\u001b[0m\n",
            "[ 44%] Built target heightmap\n",
            "\u001b[35m\u001b[1mScanning dependencies of target monitors\u001b[0m\n",
            "[ 45%] \u001b[32mBuilding C object tests/CMakeFiles/monitors.dir/monitors.c.o\u001b[0m\n",
            "[ 45%] Built target reopen\n",
            "[ 45%] Built target triangle-opengl\n",
            "\u001b[35m\u001b[1mScanning dependencies of target glfwinfo\u001b[0m\n",
            "\u001b[35m\u001b[1mScanning dependencies of target iconify\u001b[0m\n",
            "[ 46%] \u001b[32mBuilding C object tests/CMakeFiles/glfwinfo.dir/glfwinfo.c.o\u001b[0m\n",
            "[ 47%] \u001b[32mBuilding C object tests/CMakeFiles/iconify.dir/iconify.c.o\u001b[0m\n",
            "[ 48%] \u001b[32mBuilding C object tests/CMakeFiles/monitors.dir/__/deps/getopt.c.o\u001b[0m\n",
            "[ 48%] \u001b[32mBuilding C object tests/CMakeFiles/monitors.dir/__/deps/glad_gl.c.o\u001b[0m\n",
            "[ 49%] \u001b[32mBuilding C object tests/CMakeFiles/iconify.dir/__/deps/getopt.c.o\u001b[0m\n",
            "[ 50%] \u001b[32mBuilding C object tests/CMakeFiles/glfwinfo.dir/__/deps/getopt.c.o\u001b[0m\n",
            "[ 51%] \u001b[32mBuilding C object tests/CMakeFiles/iconify.dir/__/deps/glad_gl.c.o\u001b[0m\n",
            "[ 51%] \u001b[32mBuilding C object tests/CMakeFiles/glfwinfo.dir/__/deps/glad_gl.c.o\u001b[0m\n",
            "[ 52%] \u001b[32m\u001b[1mLinking C executable monitors\u001b[0m\n",
            "[ 53%] \u001b[32m\u001b[1mLinking C executable iconify\u001b[0m\n",
            "[ 53%] Built target monitors\n",
            "[ 54%] \u001b[32mBuilding C object tests/CMakeFiles/glfwinfo.dir/__/deps/glad_vulkan.c.o\u001b[0m\n",
            "\u001b[35m\u001b[1mScanning dependencies of target empty\u001b[0m\n",
            "[ 55%] \u001b[32mBuilding C object tests/CMakeFiles/empty.dir/empty.c.o\u001b[0m\n",
            "[ 55%] Built target iconify\n",
            "[ 56%] \u001b[32mBuilding C object tests/CMakeFiles/empty.dir/__/deps/tinycthread.c.o\u001b[0m\n",
            "[ 57%] \u001b[32m\u001b[1mLinking C executable glfwinfo\u001b[0m\n",
            "[ 58%] \u001b[32mBuilding C object tests/CMakeFiles/empty.dir/__/deps/glad_gl.c.o\u001b[0m\n",
            "\u001b[35m\u001b[1mScanning dependencies of target cursor\u001b[0m\n",
            "[ 58%] \u001b[32mBuilding C object tests/CMakeFiles/cursor.dir/cursor.c.o\u001b[0m\n",
            "[ 58%] Built target glfwinfo\n",
            "\u001b[35m\u001b[1mScanning dependencies of target threads\u001b[0m\n",
            "[ 59%] \u001b[32mBuilding C object tests/CMakeFiles/threads.dir/threads.c.o\u001b[0m\n",
            "[ 60%] \u001b[32mBuilding C object tests/CMakeFiles/cursor.dir/__/deps/glad_gl.c.o\u001b[0m\n",
            "[ 61%] \u001b[32mBuilding C object tests/CMakeFiles/threads.dir/__/deps/tinycthread.c.o\u001b[0m\n",
            "[ 62%] \u001b[32m\u001b[1mLinking C executable empty\u001b[0m\n",
            "[ 63%] \u001b[32mBuilding C object tests/CMakeFiles/threads.dir/__/deps/glad_gl.c.o\u001b[0m\n",
            "[ 64%] \u001b[32m\u001b[1mLinking C executable cursor\u001b[0m\n",
            "[ 64%] Built target empty\n",
            "\u001b[35m\u001b[1mScanning dependencies of target msaa\u001b[0m\n",
            "[ 65%] \u001b[32mBuilding C object tests/CMakeFiles/msaa.dir/msaa.c.o\u001b[0m\n",
            "[ 65%] Built target cursor\n",
            "[ 66%] \u001b[32mBuilding C object tests/CMakeFiles/msaa.dir/__/deps/getopt.c.o\u001b[0m\n",
            "[ 67%] \u001b[32mBuilding C object tests/CMakeFiles/msaa.dir/__/deps/glad_gl.c.o\u001b[0m\n",
            "[ 67%] \u001b[32m\u001b[1mLinking C executable threads\u001b[0m\n",
            "\u001b[35m\u001b[1mScanning dependencies of target events\u001b[0m\n",
            "[ 67%] \u001b[32mBuilding C object tests/CMakeFiles/events.dir/events.c.o\u001b[0m\n",
            "[ 67%] Built target threads\n",
            "[ 68%] \u001b[32mBuilding C object tests/CMakeFiles/events.dir/__/deps/getopt.c.o\u001b[0m\n",
            "[ 69%] \u001b[32m\u001b[1mLinking C executable msaa\u001b[0m\n",
            "[ 70%] \u001b[32mBuilding C object tests/CMakeFiles/events.dir/__/deps/glad_gl.c.o\u001b[0m\n",
            "\u001b[35m\u001b[1mScanning dependencies of target gamma\u001b[0m\n",
            "[ 71%] \u001b[32mBuilding C object tests/CMakeFiles/gamma.dir/gamma.c.o\u001b[0m\n",
            "[ 71%] Built target msaa\n",
            "\u001b[35m\u001b[1mScanning dependencies of target icon\u001b[0m\n",
            "[ 72%] \u001b[32mBuilding C object tests/CMakeFiles/icon.dir/icon.c.o\u001b[0m\n",
            "[ 73%] \u001b[32m\u001b[1mLinking C executable events\u001b[0m\n",
            "[ 73%] \u001b[32mBuilding C object tests/CMakeFiles/icon.dir/__/deps/glad_gl.c.o\u001b[0m\n",
            "[ 73%] Built target events\n",
            "\u001b[35m\u001b[1mScanning dependencies of target tearing\u001b[0m\n",
            "[ 74%] \u001b[32mBuilding C object tests/CMakeFiles/tearing.dir/tearing.c.o\u001b[0m\n",
            "[ 75%] \u001b[32m\u001b[1mLinking C executable icon\u001b[0m\n",
            "[ 76%] \u001b[32mBuilding C object tests/CMakeFiles/inputlag.dir/__/deps/getopt.c.o\u001b[0m\n",
            "[ 77%] \u001b[32mBuilding C object tests/CMakeFiles/tearing.dir/__/deps/glad_gl.c.o\u001b[0m\n",
            "[ 77%] Built target icon\n",
            "[ 77%] \u001b[32mBuilding C object tests/CMakeFiles/inputlag.dir/__/deps/glad_gl.c.o\u001b[0m\n",
            "[ 78%] \u001b[32mBuilding C object tests/CMakeFiles/gamma.dir/__/deps/glad_gl.c.o\u001b[0m\n",
            "[ 79%] \u001b[32m\u001b[1mLinking C executable tearing\u001b[0m\n",
            "[ 80%] \u001b[32m\u001b[1mLinking C executable inputlag\u001b[0m\n",
            "\u001b[35m\u001b[1mScanning dependencies of target joysticks\u001b[0m\n",
            "[ 81%] \u001b[32mBuilding C object tests/CMakeFiles/joysticks.dir/joysticks.c.o\u001b[0m\n",
            "[ 81%] Built target tearing\n",
            "\u001b[35m\u001b[1mScanning dependencies of target clipboard\u001b[0m\n",
            "[ 81%] Built target inputlag\n",
            "[ 82%] \u001b[32mBuilding C object tests/CMakeFiles/clipboard.dir/clipboard.c.o\u001b[0m\n",
            "[ 83%] \u001b[32mBuilding C object tests/CMakeFiles/clipboard.dir/__/deps/getopt.c.o\u001b[0m\n",
            "[ 84%] \u001b[32mBuilding C object tests/CMakeFiles/clipboard.dir/__/deps/glad_gl.c.o\u001b[0m\n",
            "\u001b[35m\u001b[1mScanning dependencies of target title\u001b[0m\n",
            "[ 85%] \u001b[32mBuilding C object tests/CMakeFiles/title.dir/title.c.o\u001b[0m\n",
            "[ 86%] \u001b[32mBuilding C object tests/CMakeFiles/title.dir/__/deps/glad_gl.c.o\u001b[0m\n",
            "[ 87%] \u001b[32m\u001b[1mLinking C executable clipboard\u001b[0m\n",
            "[ 87%] Built target clipboard\n",
            "\u001b[35m\u001b[1mScanning dependencies of target triangle-vulkan\u001b[0m\n",
            "[ 88%] \u001b[32m\u001b[1mLinking C executable title\u001b[0m\n",
            "[ 89%] \u001b[32mBuilding C object tests/CMakeFiles/triangle-vulkan.dir/triangle-vulkan.c.o\u001b[0m\n",
            "[ 89%] Built target title\n",
            "\u001b[35m\u001b[1mScanning dependencies of target window\u001b[0m\n",
            "[ 90%] \u001b[32mBuilding C object tests/CMakeFiles/window.dir/window.c.o\u001b[0m\n",
            "[ 91%] \u001b[32mBuilding C object tests/CMakeFiles/triangle-vulkan.dir/__/deps/glad_vulkan.c.o\u001b[0m\n",
            "[ 92%] \u001b[32m\u001b[1mLinking C executable triangle-vulkan\u001b[0m\n",
            "[ 92%] Built target triangle-vulkan\n",
            "[ 93%] \u001b[32mBuilding C object tests/CMakeFiles/window.dir/__/deps/glad_gl.c.o\u001b[0m\n",
            "[ 94%] \u001b[32m\u001b[1mLinking C executable gamma\u001b[0m\n",
            "[ 95%] \u001b[32mBuilding C object tests/CMakeFiles/joysticks.dir/__/deps/glad_gl.c.o\u001b[0m\n",
            "[ 95%] Built target gamma\n",
            "\u001b[35m\u001b[1mScanning dependencies of target timeout\u001b[0m\n",
            "[ 96%] \u001b[32mBuilding C object tests/CMakeFiles/timeout.dir/timeout.c.o\u001b[0m\n",
            "[ 97%] \u001b[32mBuilding C object tests/CMakeFiles/timeout.dir/__/deps/glad_gl.c.o\u001b[0m\n",
            "[ 98%] \u001b[32m\u001b[1mLinking C executable timeout\u001b[0m\n",
            "[ 98%] Built target timeout\n",
            "[ 99%] \u001b[32m\u001b[1mLinking C executable joysticks\u001b[0m\n",
            "[ 99%] Built target joysticks\n",
            "[100%] \u001b[32m\u001b[1mLinking C executable window\u001b[0m\n",
            "[100%] Built target window\n"
          ],
          "name": "stdout"
        }
      ]
    },
    {
      "cell_type": "code",
      "metadata": {
        "id": "Mb7qzaXh4akf",
        "outputId": "63dca804-87d2-453a-c61b-a15e5df9de92",
        "colab": {
          "base_uri": "https://localhost:8080/"
        }
      },
      "source": [
        "%ls"
      ],
      "execution_count": 158,
      "outputs": [
        {
          "output_type": "stream",
          "text": [
            "CMakeCache.txt  cmake_install.cmake    \u001b[0m\u001b[01;34mexamples\u001b[0m/  \u001b[01;34msrc\u001b[0m/\n",
            "\u001b[01;34mCMakeFiles\u001b[0m/     cmake_uninstall.cmake  Makefile   \u001b[01;34mtests\u001b[0m/\n"
          ],
          "name": "stdout"
        }
      ]
    },
    {
      "cell_type": "code",
      "metadata": {
        "id": "OU6DZoFb4ppO",
        "outputId": "3287afe8-32d7-426b-fce7-d232dbd9165a",
        "colab": {
          "base_uri": "https://localhost:8080/"
        }
      },
      "source": [
        "%cd src/\r\n",
        "%ls"
      ],
      "execution_count": 171,
      "outputs": [
        {
          "output_type": "stream",
          "text": [
            "/content/PyCLFRTryColab/glesLFR/lib/BuildLib/glfw/build/src\n",
            "\u001b[0m\u001b[01;34mCMakeFiles\u001b[0m/          glfw3ConfigVersion.cmake  libglfw3.a     \u001b[01;32mlibglfw.so.3.4\u001b[0m*\n",
            "cmake_install.cmake  glfw3.pc                  \u001b[01;36mlibglfw.so\u001b[0m@    Makefile\n",
            "glfw3Config.cmake    glfw_config.h             \u001b[01;36mlibglfw.so.3\u001b[0m@\n"
          ],
          "name": "stdout"
        }
      ]
    },
    {
      "cell_type": "code",
      "metadata": {
        "id": "WrYPnHsU-oMW",
        "outputId": "a6b2ac9d-102b-4337-c169-ed296756836f",
        "colab": {
          "base_uri": "https://localhost:8080/"
        }
      },
      "source": [
        "!cmake .. -DBUILD_SHARED_LIBS=ON "
      ],
      "execution_count": 164,
      "outputs": [
        {
          "output_type": "stream",
          "text": [
            "-- Could NOT find Doxygen (missing: DOXYGEN_EXECUTABLE) \n",
            "-- Using X11 for window creation\n",
            "-- Configuring done\n",
            "-- Generating done\n",
            "-- Build files have been written to: /content/PyCLFRTryColab/glesLFR/lib/BuildLib/glfw/build\n"
          ],
          "name": "stdout"
        }
      ]
    },
    {
      "cell_type": "code",
      "metadata": {
        "id": "d2EvpCxp-AJp",
        "outputId": "b745fff4-5517-4084-fb80-c50703409d0c",
        "colab": {
          "base_uri": "https://localhost:8080/"
        }
      },
      "source": [
        "!make"
      ],
      "execution_count": 165,
      "outputs": [
        {
          "output_type": "stream",
          "text": [
            "\u001b[35m\u001b[1mScanning dependencies of target glfw\u001b[0m\n",
            "[  1%] \u001b[32mBuilding C object src/CMakeFiles/glfw.dir/context.c.o\u001b[0m\n",
            "[  2%] \u001b[32mBuilding C object src/CMakeFiles/glfw.dir/init.c.o\u001b[0m\n",
            "[  3%] \u001b[32mBuilding C object src/CMakeFiles/glfw.dir/input.c.o\u001b[0m\n",
            "[  4%] \u001b[32mBuilding C object src/CMakeFiles/glfw.dir/monitor.c.o\u001b[0m\n",
            "[  5%] \u001b[32mBuilding C object src/CMakeFiles/glfw.dir/vulkan.c.o\u001b[0m\n",
            "[  5%] \u001b[32mBuilding C object src/CMakeFiles/glfw.dir/window.c.o\u001b[0m\n",
            "[  6%] \u001b[32mBuilding C object src/CMakeFiles/glfw.dir/x11_init.c.o\u001b[0m\n",
            "[  7%] \u001b[32mBuilding C object src/CMakeFiles/glfw.dir/x11_monitor.c.o\u001b[0m\n",
            "[  8%] \u001b[32mBuilding C object src/CMakeFiles/glfw.dir/x11_window.c.o\u001b[0m\n",
            "[  9%] \u001b[32mBuilding C object src/CMakeFiles/glfw.dir/xkb_unicode.c.o\u001b[0m\n",
            "[ 10%] \u001b[32mBuilding C object src/CMakeFiles/glfw.dir/posix_time.c.o\u001b[0m\n",
            "[ 11%] \u001b[32mBuilding C object src/CMakeFiles/glfw.dir/posix_thread.c.o\u001b[0m\n",
            "[ 11%] \u001b[32mBuilding C object src/CMakeFiles/glfw.dir/glx_context.c.o\u001b[0m\n",
            "[ 12%] \u001b[32mBuilding C object src/CMakeFiles/glfw.dir/egl_context.c.o\u001b[0m\n",
            "[ 13%] \u001b[32mBuilding C object src/CMakeFiles/glfw.dir/osmesa_context.c.o\u001b[0m\n",
            "[ 14%] \u001b[32mBuilding C object src/CMakeFiles/glfw.dir/linux_joystick.c.o\u001b[0m\n",
            "[ 15%] \u001b[32m\u001b[1mLinking C shared library libglfw.so\u001b[0m\n",
            "[ 15%] Built target glfw\n",
            "[ 16%] \u001b[32m\u001b[1mLinking C executable boing\u001b[0m\n",
            "[ 17%] Built target boing\n",
            "[ 18%] \u001b[32m\u001b[1mLinking C executable gears\u001b[0m\n",
            "[ 19%] Built target gears\n",
            "[ 20%] \u001b[32m\u001b[1mLinking C executable windows\u001b[0m\n",
            "[ 22%] Built target windows\n",
            "[ 23%] \u001b[32m\u001b[1mLinking C executable offscreen\u001b[0m\n",
            "[ 24%] Built target offscreen\n",
            "[ 25%] \u001b[32m\u001b[1mLinking C executable particles\u001b[0m\n",
            "[ 29%] Built target particles\n",
            "[ 30%] \u001b[32m\u001b[1mLinking C executable wave\u001b[0m\n",
            "[ 31%] Built target wave\n",
            "[ 32%] \u001b[32m\u001b[1mLinking C executable sharing\u001b[0m\n",
            "[ 34%] Built target sharing\n",
            "[ 34%] \u001b[32m\u001b[1mLinking C executable splitview\u001b[0m\n",
            "[ 36%] Built target splitview\n",
            "[ 37%] \u001b[32m\u001b[1mLinking C executable heightmap\u001b[0m\n",
            "[ 39%] Built target heightmap\n",
            "[ 40%] \u001b[32m\u001b[1mLinking C executable triangle-opengl\u001b[0m\n",
            "[ 41%] Built target triangle-opengl\n",
            "[ 42%] \u001b[32m\u001b[1mLinking C executable reopen\u001b[0m\n",
            "[ 43%] Built target reopen\n",
            "[ 44%] \u001b[32m\u001b[1mLinking C executable inputlag\u001b[0m\n",
            "[ 46%] Built target inputlag\n",
            "[ 47%] \u001b[32m\u001b[1mLinking C executable monitors\u001b[0m\n",
            "[ 49%] Built target monitors\n",
            "[ 50%] \u001b[32m\u001b[1mLinking C executable iconify\u001b[0m\n",
            "[ 53%] Built target iconify\n",
            "[ 54%] \u001b[32m\u001b[1mLinking C executable glfwinfo\u001b[0m\n",
            "[ 57%] Built target glfwinfo\n",
            "[ 58%] \u001b[32m\u001b[1mLinking C executable empty\u001b[0m\n",
            "[ 61%] Built target empty\n",
            "[ 62%] \u001b[32m\u001b[1mLinking C executable cursor\u001b[0m\n",
            "[ 63%] Built target cursor\n",
            "[ 63%] \u001b[32m\u001b[1mLinking C executable threads\u001b[0m\n",
            "[ 66%] Built target threads\n",
            "[ 67%] \u001b[32m\u001b[1mLinking C executable msaa\u001b[0m\n",
            "[ 70%] Built target msaa\n",
            "[ 71%] \u001b[32m\u001b[1mLinking C executable events\u001b[0m\n",
            "[ 73%] Built target events\n",
            "[ 74%] \u001b[32m\u001b[1mLinking C executable gamma\u001b[0m\n",
            "[ 76%] Built target gamma\n",
            "[ 77%] \u001b[32m\u001b[1mLinking C executable icon\u001b[0m\n",
            "[ 78%] Built target icon\n",
            "[ 79%] \u001b[32m\u001b[1mLinking C executable tearing\u001b[0m\n",
            "[ 81%] Built target tearing\n",
            "[ 82%] \u001b[32m\u001b[1mLinking C executable joysticks\u001b[0m\n",
            "[ 84%] Built target joysticks\n",
            "[ 85%] \u001b[32m\u001b[1mLinking C executable clipboard\u001b[0m\n",
            "[ 88%] Built target clipboard\n",
            "[ 89%] \u001b[32m\u001b[1mLinking C executable title\u001b[0m\n",
            "[ 91%] Built target title\n",
            "[ 92%] \u001b[32m\u001b[1mLinking C executable triangle-vulkan\u001b[0m\n",
            "[ 94%] Built target triangle-vulkan\n",
            "[ 95%] \u001b[32m\u001b[1mLinking C executable window\u001b[0m\n",
            "[ 97%] Built target window\n",
            "[ 98%] \u001b[32m\u001b[1mLinking C executable timeout\u001b[0m\n",
            "[100%] Built target timeout\n"
          ],
          "name": "stdout"
        }
      ]
    },
    {
      "cell_type": "code",
      "metadata": {
        "id": "zc_79ZpG-ERQ",
        "outputId": "24bfc45a-5515-4107-d4d1-145c87364e2d",
        "colab": {
          "base_uri": "https://localhost:8080/"
        }
      },
      "source": [
        "%ls"
      ],
      "execution_count": 172,
      "outputs": [
        {
          "output_type": "stream",
          "text": [
            "\u001b[0m\u001b[01;34mCMakeFiles\u001b[0m/          glfw3ConfigVersion.cmake  libglfw3.a     \u001b[01;32mlibglfw.so.3.4\u001b[0m*\n",
            "cmake_install.cmake  glfw3.pc                  \u001b[01;36mlibglfw.so\u001b[0m@    Makefile\n",
            "glfw3Config.cmake    glfw_config.h             \u001b[01;36mlibglfw.so.3\u001b[0m@\n"
          ],
          "name": "stdout"
        }
      ]
    },
    {
      "cell_type": "code",
      "metadata": {
        "id": "sTRQGMIL_S0H",
        "outputId": "83a1022e-c1ee-4a38-ecc0-9ddced10ffb5",
        "colab": {
          "base_uri": "https://localhost:8080/"
        }
      },
      "source": [
        "%mv -v /content/PyCLFRTryColab/glesLFR/lib/BuildLib/glfw/build/src/* /content/PyCLFRTryColab/glesLFR/lib/"
      ],
      "execution_count": 173,
      "outputs": [
        {
          "output_type": "stream",
          "text": [
            "renamed '/content/PyCLFRTryColab/glesLFR/lib/BuildLib/glfw/build/src/CMakeFiles' -> '/content/PyCLFRTryColab/glesLFR/lib/CMakeFiles'\n",
            "renamed '/content/PyCLFRTryColab/glesLFR/lib/BuildLib/glfw/build/src/cmake_install.cmake' -> '/content/PyCLFRTryColab/glesLFR/lib/cmake_install.cmake'\n",
            "renamed '/content/PyCLFRTryColab/glesLFR/lib/BuildLib/glfw/build/src/glfw3Config.cmake' -> '/content/PyCLFRTryColab/glesLFR/lib/glfw3Config.cmake'\n",
            "renamed '/content/PyCLFRTryColab/glesLFR/lib/BuildLib/glfw/build/src/glfw3ConfigVersion.cmake' -> '/content/PyCLFRTryColab/glesLFR/lib/glfw3ConfigVersion.cmake'\n",
            "renamed '/content/PyCLFRTryColab/glesLFR/lib/BuildLib/glfw/build/src/glfw3.pc' -> '/content/PyCLFRTryColab/glesLFR/lib/glfw3.pc'\n",
            "renamed '/content/PyCLFRTryColab/glesLFR/lib/BuildLib/glfw/build/src/glfw_config.h' -> '/content/PyCLFRTryColab/glesLFR/lib/glfw_config.h'\n",
            "renamed '/content/PyCLFRTryColab/glesLFR/lib/BuildLib/glfw/build/src/libglfw3.a' -> '/content/PyCLFRTryColab/glesLFR/lib/libglfw3.a'\n",
            "renamed '/content/PyCLFRTryColab/glesLFR/lib/BuildLib/glfw/build/src/libglfw.so' -> '/content/PyCLFRTryColab/glesLFR/lib/libglfw.so'\n",
            "renamed '/content/PyCLFRTryColab/glesLFR/lib/BuildLib/glfw/build/src/libglfw.so.3' -> '/content/PyCLFRTryColab/glesLFR/lib/libglfw.so.3'\n",
            "renamed '/content/PyCLFRTryColab/glesLFR/lib/BuildLib/glfw/build/src/libglfw.so.3.4' -> '/content/PyCLFRTryColab/glesLFR/lib/libglfw.so.3.4'\n",
            "renamed '/content/PyCLFRTryColab/glesLFR/lib/BuildLib/glfw/build/src/Makefile' -> '/content/PyCLFRTryColab/glesLFR/lib/Makefile'\n"
          ],
          "name": "stdout"
        }
      ]
    },
    {
      "cell_type": "code",
      "metadata": {
        "id": "Z2Ov6p6M_dH3",
        "outputId": "c07286f2-7205-4696-f9db-5c86e677617c",
        "colab": {
          "base_uri": "https://localhost:8080/"
        }
      },
      "source": [
        "%cd /content/PyCLFRTryColab/glesLFR/src/\r\n",
        "%ls"
      ],
      "execution_count": 176,
      "outputs": [
        {
          "output_type": "stream",
          "text": [
            "/content/PyCLFRTryColab/glesLFR/src\n",
            "\u001b[0m\u001b[01;34mbuild\u001b[0m/                     LFGenerator.cpp\n",
            "glad.c                     Log_to_Pose.py\n",
            "glesLFR.cpp                minimalRunScript_Indrajit.py\n",
            "glesLFR_Indrajit.cpp       minimalRunScript.py\n",
            "glesLFR_Indrajit_Pyth.cpp  stb_image.cpp\n",
            "glesLFR_Indrajit_Pyth.pyx  TestRendererBind_setup_Indrajit.py\n",
            "glesLFRPyth.cpp            TestRendererBind_setup.py\n",
            "glesLFRPyth.pyx            TryPyCLFR_Colab.ipynb\n"
          ],
          "name": "stdout"
        }
      ]
    },
    {
      "cell_type": "code",
      "metadata": {
        "id": "fQ5423YpiqyI",
        "outputId": "f03471aa-56f4-48ca-995f-4e5de0aae6ea",
        "colab": {
          "base_uri": "https://localhost:8080/"
        }
      },
      "source": [
        "!python TestRendererBind_setup_Indrajit.py build_ext --inplace"
      ],
      "execution_count": 178,
      "outputs": [
        {
          "output_type": "stream",
          "text": [
            "  File \"TestRendererBind_setup_Indrajit.py\", line 19\n",
            "    extra_compile_args=[\"-Wall\",\"-Wextra\", \"-std=c++17\", \"-ggdb\", \"-lpthread\",\"-I../include/\",\"-L../lib/\",\"-llibassimp.so.5\"],\n",
            "                      ^\n",
            "SyntaxError: invalid syntax\n"
          ],
          "name": "stdout"
        }
      ]
    },
    {
      "cell_type": "code",
      "metadata": {
        "id": "cpdXal2xcYAJ"
      },
      "source": [
        "print('ProgramStarted')\n",
        "import glesLFR_Indrajit\n",
        "import json\n",
        "import numpy as np\n",
        "import os\n",
        "import cv2\n",
        "print('glesLFR Import')"
      ],
      "execution_count": null,
      "outputs": []
    },
    {
      "cell_type": "code",
      "metadata": {
        "id": "2aa_N3B7cYAK"
      },
      "source": [
        "\n",
        "def ReadJsonPosesFiles(PyClassObject,PosesFilePath):\n",
        "        with open(PosesFilePath) as PoseFile:\n",
        "            PoseFileData = json.load(PoseFile)\n",
        "            NoofPoses = len(PoseFileData['images'])\n",
        "            PoseFileImagesData = PoseFileData['images']\n",
        "            if len(PoseFileData['images']) > 0:\n",
        "                PyClassObject.Py_allocate(len(PoseFileData['images']))\n",
        "                for i in range (0,len(PoseFileData['images'])):\n",
        "                    ImageName = PoseFileImagesData[i]['imagefile']\n",
        "                    #Convert List of List to Np array\n",
        "                    PoseMatrix = PoseFileImagesData[i]['M3x4']\n",
        "                    PoseMatrixNumpyArray = np.array([], dtype=np.double)\n",
        "                    for k in range(0,len(PoseMatrix)):\n",
        "                        PoseMatrixNumpyArray = np.append(PoseMatrixNumpyArray, np.asarray(PoseMatrix[k],dtype=np.double))\n",
        "                    PyClassObject.namespushback(ImageName)\n",
        "                    PyClassObject.posespushback(np.array(PoseMatrixNumpyArray))\n",
        "        return NoofPoses\n",
        "def RenderInitialize(PyClassObject,PosesFilePath,ImageLocation,ObjModelPath,ObjModelImagePath):\n",
        "        PyClassObject.RenderInitializeP1()\n",
        "        NofPoses = ReadJsonPosesFiles(PyClassObject, PosesFilePath)\n",
        "        print(NofPoses)\n",
        "        PyClassObject.Py_LoadDemModel(ObjModelPath,ObjModelImagePath)\n",
        "        for i in range (0,NofPoses):\n",
        "            ImageName = PyClassObject.GetnamesIndex(i)\n",
        "            print(ImageName)\n",
        "            LoadImageName = ImageName.replace('.tiff','.png')\n",
        "            Image = cv2.imread(os.path.join(ImageLocation,LoadImageName),0)\n",
        "             # height, width, number of channels in image\n",
        "            height = Image.shape[0]\n",
        "            width = Image.shape[1]\n",
        "            if len(Image.shape) == 2 :\n",
        "                nrComponents = 1\n",
        "            else :\n",
        "                nrComponents = Image.shape[2]\n",
        "            PyClassObject.LoadImageToC_8bit_1ch(Image)\n",
        "            PyClassObject.Py_GenrateTextureID()\n",
        "            PyClassObject.Py_BindImageWithTextureID(i,height,width,nrComponents)\n",
        "        print('Binding Texture Successful')\n",
        "        PyClassObject.RenderInitializeP2()\n",
        "        print('Inititalization Finished')"
      ],
      "execution_count": null,
      "outputs": []
    },
    {
      "cell_type": "code",
      "metadata": {
        "id": "jGqr75D7cYAM"
      },
      "source": [
        "PosesFilePath = '../data/T20200207F2/thermal_GPS_Corr.json'\n",
        "ImageLocation = '../data/T20200207F2/thermal_ldr512'\n",
        "ObjModelPath = '../data/T20200207F2/dem.obj'\n",
        "ObjModelImagePath = '../data/T20200207F2/dem.png'\n",
        "FocalLength = 50.815436217896945\n",
        "PyLFClass = glesLFR_Indrajit.PyLightfieldClass(0)\n",
        "PyLFClass.Py_setCameraFocalLength(FocalLength)\n",
        "PyLFClass.Py_setProjectionMatrix()\n",
        "RenderInitialize(PyLFClass,PosesFilePath,ImageLocation,ObjModelPath,ObjModelImagePath)\n",
        "ImageReturned1 = PyLFClass.RenderImageOnce('RenderedImage1.png')\n",
        "cv2.imwrite('Image1InMainApp.png', ImageReturned1)\n",
        "ImageReturned2 =  PyLFClass.RenderImageOnce('RenderedImage2.png')\n",
        "cv2.imwrite('Image2InMainApp.png', ImageReturned2)\n",
        "PyLFClass.TerminateRendererOnceFinished()\n",
        "#ReadJsonPosesFiles('../data/T20200207F2/thermal_GPS_Corr.json')\n",
        "print('PY LightFieldClass generated')\n",
        "\n",
        "#PyLFClass = glesLFR_Indrajit.PyLightfieldClass(0)\n",
        "#glesLFR_Indrajit.Py_PrintPyLightFieldInstanceInfo(PyLFClass)\n",
        "#glesLFR_Indrajit.Py_Initiaterender()\n",
        "#PyLFClass.RenderImageOnce()\n",
        "#glesLFR_Indrajit.Py_Completerender()\n",
        "\n",
        "#glesLFR_Indrajit.Py_Initiaterender()\n",
        "del(PyLFClass)\n"
      ],
      "execution_count": null,
      "outputs": []
    }
  ]
}