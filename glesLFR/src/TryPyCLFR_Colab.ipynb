{
  "nbformat": 4,
  "nbformat_minor": 0,
  "metadata": {
    "orig_nbformat": 2,
    "colab": {
      "name": "TryPyCLFR_Colab.ipynb",
      "provenance": []
    },
    "kernelspec": {
      "name": "python3",
      "display_name": "Python 3"
    }
  },
  "cells": [
    {
      "cell_type": "code",
      "metadata": {
        "colab": {
          "base_uri": "https://localhost:8080/"
        },
        "id": "WIT4eQH4ho8l",
        "outputId": "3e801dc5-84f0-438a-bc7b-41a5fe9c3379"
      },
      "source": [
        "!git clone https://github.com/indrajitkurmi/PyCLFRTryColab.git"
      ],
      "execution_count": 7,
      "outputs": [
        {
          "output_type": "stream",
          "text": [
            "python3: can't open file 'TestRendererBind_setup_Indrajit.py': [Errno 2] No such file or directory\n"
          ],
          "name": "stdout"
        }
      ]
    },
    {
      "cell_type": "code",
      "metadata": {
        "id": "fQ5423YpiqyI"
      },
      "source": [
        "!python TestRendererBind_setup_Indrajit.py build_ext --inplace"
      ],
      "execution_count": null,
      "outputs": []
    },
    {
      "cell_type": "code",
      "metadata": {
        "id": "cpdXal2xcYAJ"
      },
      "source": [
        "print('ProgramStarted')\n",
        "import glesLFR_Indrajit\n",
        "import json\n",
        "import numpy as np\n",
        "import os\n",
        "import cv2\n",
        "print('glesLFR Import')"
      ],
      "execution_count": null,
      "outputs": []
    },
    {
      "cell_type": "code",
      "metadata": {
        "id": "2aa_N3B7cYAK"
      },
      "source": [
        "\n",
        "def ReadJsonPosesFiles(PyClassObject,PosesFilePath):\n",
        "        with open(PosesFilePath) as PoseFile:\n",
        "            PoseFileData = json.load(PoseFile)\n",
        "            NoofPoses = len(PoseFileData['images'])\n",
        "            PoseFileImagesData = PoseFileData['images']\n",
        "            if len(PoseFileData['images']) > 0:\n",
        "                PyClassObject.Py_allocate(len(PoseFileData['images']))\n",
        "                for i in range (0,len(PoseFileData['images'])):\n",
        "                    ImageName = PoseFileImagesData[i]['imagefile']\n",
        "                    #Convert List of List to Np array\n",
        "                    PoseMatrix = PoseFileImagesData[i]['M3x4']\n",
        "                    PoseMatrixNumpyArray = np.array([], dtype=np.double)\n",
        "                    for k in range(0,len(PoseMatrix)):\n",
        "                        PoseMatrixNumpyArray = np.append(PoseMatrixNumpyArray, np.asarray(PoseMatrix[k],dtype=np.double))\n",
        "                    PyClassObject.namespushback(ImageName)\n",
        "                    PyClassObject.posespushback(np.array(PoseMatrixNumpyArray))\n",
        "        return NoofPoses\n",
        "def RenderInitialize(PyClassObject,PosesFilePath,ImageLocation,ObjModelPath,ObjModelImagePath):\n",
        "        PyClassObject.RenderInitializeP1()\n",
        "        NofPoses = ReadJsonPosesFiles(PyClassObject, PosesFilePath)\n",
        "        print(NofPoses)\n",
        "        PyClassObject.Py_LoadDemModel(ObjModelPath,ObjModelImagePath)\n",
        "        for i in range (0,NofPoses):\n",
        "            ImageName = PyClassObject.GetnamesIndex(i)\n",
        "            print(ImageName)\n",
        "            LoadImageName = ImageName.replace('.tiff','.png')\n",
        "            Image = cv2.imread(os.path.join(ImageLocation,LoadImageName),0)\n",
        "             # height, width, number of channels in image\n",
        "            height = Image.shape[0]\n",
        "            width = Image.shape[1]\n",
        "            if len(Image.shape) == 2 :\n",
        "                nrComponents = 1\n",
        "            else :\n",
        "                nrComponents = Image.shape[2]\n",
        "            PyClassObject.LoadImageToC_8bit_1ch(Image)\n",
        "            PyClassObject.Py_GenrateTextureID()\n",
        "            PyClassObject.Py_BindImageWithTextureID(i,height,width,nrComponents)\n",
        "        print('Binding Texture Successful')\n",
        "        PyClassObject.RenderInitializeP2()\n",
        "        print('Inititalization Finished')"
      ],
      "execution_count": null,
      "outputs": []
    },
    {
      "cell_type": "code",
      "metadata": {
        "id": "jGqr75D7cYAM"
      },
      "source": [
        "PosesFilePath = '../data/T20200207F2/thermal_GPS_Corr.json'\n",
        "ImageLocation = '../data/T20200207F2/thermal_ldr512'\n",
        "ObjModelPath = '../data/T20200207F2/dem.obj'\n",
        "ObjModelImagePath = '../data/T20200207F2/dem.png'\n",
        "FocalLength = 50.815436217896945\n",
        "PyLFClass = glesLFR_Indrajit.PyLightfieldClass(0)\n",
        "PyLFClass.Py_setCameraFocalLength(FocalLength)\n",
        "PyLFClass.Py_setProjectionMatrix()\n",
        "RenderInitialize(PyLFClass,PosesFilePath,ImageLocation,ObjModelPath,ObjModelImagePath)\n",
        "ImageReturned1 = PyLFClass.RenderImageOnce('RenderedImage1.png')\n",
        "cv2.imwrite('Image1InMainApp.png', ImageReturned1)\n",
        "ImageReturned2 =  PyLFClass.RenderImageOnce('RenderedImage2.png')\n",
        "cv2.imwrite('Image2InMainApp.png', ImageReturned2)\n",
        "PyLFClass.TerminateRendererOnceFinished()\n",
        "#ReadJsonPosesFiles('../data/T20200207F2/thermal_GPS_Corr.json')\n",
        "print('PY LightFieldClass generated')\n",
        "\n",
        "#PyLFClass = glesLFR_Indrajit.PyLightfieldClass(0)\n",
        "#glesLFR_Indrajit.Py_PrintPyLightFieldInstanceInfo(PyLFClass)\n",
        "#glesLFR_Indrajit.Py_Initiaterender()\n",
        "#PyLFClass.RenderImageOnce()\n",
        "#glesLFR_Indrajit.Py_Completerender()\n",
        "\n",
        "#glesLFR_Indrajit.Py_Initiaterender()\n",
        "del(PyLFClass)\n"
      ],
      "execution_count": null,
      "outputs": []
    }
  ]
}